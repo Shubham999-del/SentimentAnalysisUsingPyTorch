{
  "nbformat": 4,
  "nbformat_minor": 0,
  "metadata": {
    "colab": {
      "provenance": []
    },
    "kernelspec": {
      "name": "python3",
      "display_name": "Python 3"
    },
    "language_info": {
      "name": "python"
    },
    "widgets": {
      "application/vnd.jupyter.widget-state+json": {
        "6283e6d8e6ba4ecfa75597f52f63bd27": {
          "model_module": "@jupyter-widgets/controls",
          "model_name": "HBoxModel",
          "model_module_version": "1.5.0",
          "state": {
            "_dom_classes": [],
            "_model_module": "@jupyter-widgets/controls",
            "_model_module_version": "1.5.0",
            "_model_name": "HBoxModel",
            "_view_count": null,
            "_view_module": "@jupyter-widgets/controls",
            "_view_module_version": "1.5.0",
            "_view_name": "HBoxView",
            "box_style": "",
            "children": [
              "IPY_MODEL_d21c2f1c76a543319f05976bfb5945bc",
              "IPY_MODEL_a151926bcbb146a5b06723a5aaef83ee",
              "IPY_MODEL_fb8a9fb09052400cbc9bca1c4f54620d"
            ],
            "layout": "IPY_MODEL_4ad6c2597fc7482fb8f97f8e572b8d40"
          }
        },
        "d21c2f1c76a543319f05976bfb5945bc": {
          "model_module": "@jupyter-widgets/controls",
          "model_name": "HTMLModel",
          "model_module_version": "1.5.0",
          "state": {
            "_dom_classes": [],
            "_model_module": "@jupyter-widgets/controls",
            "_model_module_version": "1.5.0",
            "_model_name": "HTMLModel",
            "_view_count": null,
            "_view_module": "@jupyter-widgets/controls",
            "_view_module_version": "1.5.0",
            "_view_name": "HTMLView",
            "description": "",
            "description_tooltip": null,
            "layout": "IPY_MODEL_e16963d1711d4af6941d2a4848757be1",
            "placeholder": "​",
            "style": "IPY_MODEL_b720365cdb284f60836e41f400fb2706",
            "value": "Map: 100%"
          }
        },
        "a151926bcbb146a5b06723a5aaef83ee": {
          "model_module": "@jupyter-widgets/controls",
          "model_name": "FloatProgressModel",
          "model_module_version": "1.5.0",
          "state": {
            "_dom_classes": [],
            "_model_module": "@jupyter-widgets/controls",
            "_model_module_version": "1.5.0",
            "_model_name": "FloatProgressModel",
            "_view_count": null,
            "_view_module": "@jupyter-widgets/controls",
            "_view_module_version": "1.5.0",
            "_view_name": "ProgressView",
            "bar_style": "success",
            "description": "",
            "description_tooltip": null,
            "layout": "IPY_MODEL_c7a49c2c027f47f7af5db97ec609f770",
            "max": 25000,
            "min": 0,
            "orientation": "horizontal",
            "style": "IPY_MODEL_89b2636f636c4e6dba2d0d8e07729c37",
            "value": 25000
          }
        },
        "fb8a9fb09052400cbc9bca1c4f54620d": {
          "model_module": "@jupyter-widgets/controls",
          "model_name": "HTMLModel",
          "model_module_version": "1.5.0",
          "state": {
            "_dom_classes": [],
            "_model_module": "@jupyter-widgets/controls",
            "_model_module_version": "1.5.0",
            "_model_name": "HTMLModel",
            "_view_count": null,
            "_view_module": "@jupyter-widgets/controls",
            "_view_module_version": "1.5.0",
            "_view_name": "HTMLView",
            "description": "",
            "description_tooltip": null,
            "layout": "IPY_MODEL_685245522ba0488f9c7bc5fd33fce9de",
            "placeholder": "​",
            "style": "IPY_MODEL_84d6e7b10eeb40e1877c5f10526de73e",
            "value": " 25000/25000 [00:09&lt;00:00, 2051.20 examples/s]"
          }
        },
        "4ad6c2597fc7482fb8f97f8e572b8d40": {
          "model_module": "@jupyter-widgets/base",
          "model_name": "LayoutModel",
          "model_module_version": "1.2.0",
          "state": {
            "_model_module": "@jupyter-widgets/base",
            "_model_module_version": "1.2.0",
            "_model_name": "LayoutModel",
            "_view_count": null,
            "_view_module": "@jupyter-widgets/base",
            "_view_module_version": "1.2.0",
            "_view_name": "LayoutView",
            "align_content": null,
            "align_items": null,
            "align_self": null,
            "border": null,
            "bottom": null,
            "display": null,
            "flex": null,
            "flex_flow": null,
            "grid_area": null,
            "grid_auto_columns": null,
            "grid_auto_flow": null,
            "grid_auto_rows": null,
            "grid_column": null,
            "grid_gap": null,
            "grid_row": null,
            "grid_template_areas": null,
            "grid_template_columns": null,
            "grid_template_rows": null,
            "height": null,
            "justify_content": null,
            "justify_items": null,
            "left": null,
            "margin": null,
            "max_height": null,
            "max_width": null,
            "min_height": null,
            "min_width": null,
            "object_fit": null,
            "object_position": null,
            "order": null,
            "overflow": null,
            "overflow_x": null,
            "overflow_y": null,
            "padding": null,
            "right": null,
            "top": null,
            "visibility": null,
            "width": null
          }
        },
        "e16963d1711d4af6941d2a4848757be1": {
          "model_module": "@jupyter-widgets/base",
          "model_name": "LayoutModel",
          "model_module_version": "1.2.0",
          "state": {
            "_model_module": "@jupyter-widgets/base",
            "_model_module_version": "1.2.0",
            "_model_name": "LayoutModel",
            "_view_count": null,
            "_view_module": "@jupyter-widgets/base",
            "_view_module_version": "1.2.0",
            "_view_name": "LayoutView",
            "align_content": null,
            "align_items": null,
            "align_self": null,
            "border": null,
            "bottom": null,
            "display": null,
            "flex": null,
            "flex_flow": null,
            "grid_area": null,
            "grid_auto_columns": null,
            "grid_auto_flow": null,
            "grid_auto_rows": null,
            "grid_column": null,
            "grid_gap": null,
            "grid_row": null,
            "grid_template_areas": null,
            "grid_template_columns": null,
            "grid_template_rows": null,
            "height": null,
            "justify_content": null,
            "justify_items": null,
            "left": null,
            "margin": null,
            "max_height": null,
            "max_width": null,
            "min_height": null,
            "min_width": null,
            "object_fit": null,
            "object_position": null,
            "order": null,
            "overflow": null,
            "overflow_x": null,
            "overflow_y": null,
            "padding": null,
            "right": null,
            "top": null,
            "visibility": null,
            "width": null
          }
        },
        "b720365cdb284f60836e41f400fb2706": {
          "model_module": "@jupyter-widgets/controls",
          "model_name": "DescriptionStyleModel",
          "model_module_version": "1.5.0",
          "state": {
            "_model_module": "@jupyter-widgets/controls",
            "_model_module_version": "1.5.0",
            "_model_name": "DescriptionStyleModel",
            "_view_count": null,
            "_view_module": "@jupyter-widgets/base",
            "_view_module_version": "1.2.0",
            "_view_name": "StyleView",
            "description_width": ""
          }
        },
        "c7a49c2c027f47f7af5db97ec609f770": {
          "model_module": "@jupyter-widgets/base",
          "model_name": "LayoutModel",
          "model_module_version": "1.2.0",
          "state": {
            "_model_module": "@jupyter-widgets/base",
            "_model_module_version": "1.2.0",
            "_model_name": "LayoutModel",
            "_view_count": null,
            "_view_module": "@jupyter-widgets/base",
            "_view_module_version": "1.2.0",
            "_view_name": "LayoutView",
            "align_content": null,
            "align_items": null,
            "align_self": null,
            "border": null,
            "bottom": null,
            "display": null,
            "flex": null,
            "flex_flow": null,
            "grid_area": null,
            "grid_auto_columns": null,
            "grid_auto_flow": null,
            "grid_auto_rows": null,
            "grid_column": null,
            "grid_gap": null,
            "grid_row": null,
            "grid_template_areas": null,
            "grid_template_columns": null,
            "grid_template_rows": null,
            "height": null,
            "justify_content": null,
            "justify_items": null,
            "left": null,
            "margin": null,
            "max_height": null,
            "max_width": null,
            "min_height": null,
            "min_width": null,
            "object_fit": null,
            "object_position": null,
            "order": null,
            "overflow": null,
            "overflow_x": null,
            "overflow_y": null,
            "padding": null,
            "right": null,
            "top": null,
            "visibility": null,
            "width": null
          }
        },
        "89b2636f636c4e6dba2d0d8e07729c37": {
          "model_module": "@jupyter-widgets/controls",
          "model_name": "ProgressStyleModel",
          "model_module_version": "1.5.0",
          "state": {
            "_model_module": "@jupyter-widgets/controls",
            "_model_module_version": "1.5.0",
            "_model_name": "ProgressStyleModel",
            "_view_count": null,
            "_view_module": "@jupyter-widgets/base",
            "_view_module_version": "1.2.0",
            "_view_name": "StyleView",
            "bar_color": null,
            "description_width": ""
          }
        },
        "685245522ba0488f9c7bc5fd33fce9de": {
          "model_module": "@jupyter-widgets/base",
          "model_name": "LayoutModel",
          "model_module_version": "1.2.0",
          "state": {
            "_model_module": "@jupyter-widgets/base",
            "_model_module_version": "1.2.0",
            "_model_name": "LayoutModel",
            "_view_count": null,
            "_view_module": "@jupyter-widgets/base",
            "_view_module_version": "1.2.0",
            "_view_name": "LayoutView",
            "align_content": null,
            "align_items": null,
            "align_self": null,
            "border": null,
            "bottom": null,
            "display": null,
            "flex": null,
            "flex_flow": null,
            "grid_area": null,
            "grid_auto_columns": null,
            "grid_auto_flow": null,
            "grid_auto_rows": null,
            "grid_column": null,
            "grid_gap": null,
            "grid_row": null,
            "grid_template_areas": null,
            "grid_template_columns": null,
            "grid_template_rows": null,
            "height": null,
            "justify_content": null,
            "justify_items": null,
            "left": null,
            "margin": null,
            "max_height": null,
            "max_width": null,
            "min_height": null,
            "min_width": null,
            "object_fit": null,
            "object_position": null,
            "order": null,
            "overflow": null,
            "overflow_x": null,
            "overflow_y": null,
            "padding": null,
            "right": null,
            "top": null,
            "visibility": null,
            "width": null
          }
        },
        "84d6e7b10eeb40e1877c5f10526de73e": {
          "model_module": "@jupyter-widgets/controls",
          "model_name": "DescriptionStyleModel",
          "model_module_version": "1.5.0",
          "state": {
            "_model_module": "@jupyter-widgets/controls",
            "_model_module_version": "1.5.0",
            "_model_name": "DescriptionStyleModel",
            "_view_count": null,
            "_view_module": "@jupyter-widgets/base",
            "_view_module_version": "1.2.0",
            "_view_name": "StyleView",
            "description_width": ""
          }
        },
        "ca27ae75f39d46179b7fd7833dc7f31f": {
          "model_module": "@jupyter-widgets/controls",
          "model_name": "HBoxModel",
          "model_module_version": "1.5.0",
          "state": {
            "_dom_classes": [],
            "_model_module": "@jupyter-widgets/controls",
            "_model_module_version": "1.5.0",
            "_model_name": "HBoxModel",
            "_view_count": null,
            "_view_module": "@jupyter-widgets/controls",
            "_view_module_version": "1.5.0",
            "_view_name": "HBoxView",
            "box_style": "",
            "children": [
              "IPY_MODEL_b45c70a02e6844ddb79df8518b1cb9ec",
              "IPY_MODEL_0c2e1c89bc4e4cccb7a301b1b13f233e",
              "IPY_MODEL_0d94fbeba9a24b2c8feb940e510ec83c"
            ],
            "layout": "IPY_MODEL_082d2bbf50b640d5b8952c6d52f5f4cd"
          }
        },
        "b45c70a02e6844ddb79df8518b1cb9ec": {
          "model_module": "@jupyter-widgets/controls",
          "model_name": "HTMLModel",
          "model_module_version": "1.5.0",
          "state": {
            "_dom_classes": [],
            "_model_module": "@jupyter-widgets/controls",
            "_model_module_version": "1.5.0",
            "_model_name": "HTMLModel",
            "_view_count": null,
            "_view_module": "@jupyter-widgets/controls",
            "_view_module_version": "1.5.0",
            "_view_name": "HTMLView",
            "description": "",
            "description_tooltip": null,
            "layout": "IPY_MODEL_9b80462db0d34a3388187b85a20d8e3e",
            "placeholder": "​",
            "style": "IPY_MODEL_d79dff0feb8f4f12acd24c3454c40a46",
            "value": "Map: 100%"
          }
        },
        "0c2e1c89bc4e4cccb7a301b1b13f233e": {
          "model_module": "@jupyter-widgets/controls",
          "model_name": "FloatProgressModel",
          "model_module_version": "1.5.0",
          "state": {
            "_dom_classes": [],
            "_model_module": "@jupyter-widgets/controls",
            "_model_module_version": "1.5.0",
            "_model_name": "FloatProgressModel",
            "_view_count": null,
            "_view_module": "@jupyter-widgets/controls",
            "_view_module_version": "1.5.0",
            "_view_name": "ProgressView",
            "bar_style": "success",
            "description": "",
            "description_tooltip": null,
            "layout": "IPY_MODEL_a14a70dfa1274fbd883add5b1e6fbfa6",
            "max": 25000,
            "min": 0,
            "orientation": "horizontal",
            "style": "IPY_MODEL_26ef6c771a214e4b9f1199f79f95ab95",
            "value": 25000
          }
        },
        "0d94fbeba9a24b2c8feb940e510ec83c": {
          "model_module": "@jupyter-widgets/controls",
          "model_name": "HTMLModel",
          "model_module_version": "1.5.0",
          "state": {
            "_dom_classes": [],
            "_model_module": "@jupyter-widgets/controls",
            "_model_module_version": "1.5.0",
            "_model_name": "HTMLModel",
            "_view_count": null,
            "_view_module": "@jupyter-widgets/controls",
            "_view_module_version": "1.5.0",
            "_view_name": "HTMLView",
            "description": "",
            "description_tooltip": null,
            "layout": "IPY_MODEL_8b90f10941cc4490b08b45f55267cebe",
            "placeholder": "​",
            "style": "IPY_MODEL_493b4ee6d8d74c189115506e715a07ca",
            "value": " 25000/25000 [00:05&lt;00:00, 4617.58 examples/s]"
          }
        },
        "082d2bbf50b640d5b8952c6d52f5f4cd": {
          "model_module": "@jupyter-widgets/base",
          "model_name": "LayoutModel",
          "model_module_version": "1.2.0",
          "state": {
            "_model_module": "@jupyter-widgets/base",
            "_model_module_version": "1.2.0",
            "_model_name": "LayoutModel",
            "_view_count": null,
            "_view_module": "@jupyter-widgets/base",
            "_view_module_version": "1.2.0",
            "_view_name": "LayoutView",
            "align_content": null,
            "align_items": null,
            "align_self": null,
            "border": null,
            "bottom": null,
            "display": null,
            "flex": null,
            "flex_flow": null,
            "grid_area": null,
            "grid_auto_columns": null,
            "grid_auto_flow": null,
            "grid_auto_rows": null,
            "grid_column": null,
            "grid_gap": null,
            "grid_row": null,
            "grid_template_areas": null,
            "grid_template_columns": null,
            "grid_template_rows": null,
            "height": null,
            "justify_content": null,
            "justify_items": null,
            "left": null,
            "margin": null,
            "max_height": null,
            "max_width": null,
            "min_height": null,
            "min_width": null,
            "object_fit": null,
            "object_position": null,
            "order": null,
            "overflow": null,
            "overflow_x": null,
            "overflow_y": null,
            "padding": null,
            "right": null,
            "top": null,
            "visibility": null,
            "width": null
          }
        },
        "9b80462db0d34a3388187b85a20d8e3e": {
          "model_module": "@jupyter-widgets/base",
          "model_name": "LayoutModel",
          "model_module_version": "1.2.0",
          "state": {
            "_model_module": "@jupyter-widgets/base",
            "_model_module_version": "1.2.0",
            "_model_name": "LayoutModel",
            "_view_count": null,
            "_view_module": "@jupyter-widgets/base",
            "_view_module_version": "1.2.0",
            "_view_name": "LayoutView",
            "align_content": null,
            "align_items": null,
            "align_self": null,
            "border": null,
            "bottom": null,
            "display": null,
            "flex": null,
            "flex_flow": null,
            "grid_area": null,
            "grid_auto_columns": null,
            "grid_auto_flow": null,
            "grid_auto_rows": null,
            "grid_column": null,
            "grid_gap": null,
            "grid_row": null,
            "grid_template_areas": null,
            "grid_template_columns": null,
            "grid_template_rows": null,
            "height": null,
            "justify_content": null,
            "justify_items": null,
            "left": null,
            "margin": null,
            "max_height": null,
            "max_width": null,
            "min_height": null,
            "min_width": null,
            "object_fit": null,
            "object_position": null,
            "order": null,
            "overflow": null,
            "overflow_x": null,
            "overflow_y": null,
            "padding": null,
            "right": null,
            "top": null,
            "visibility": null,
            "width": null
          }
        },
        "d79dff0feb8f4f12acd24c3454c40a46": {
          "model_module": "@jupyter-widgets/controls",
          "model_name": "DescriptionStyleModel",
          "model_module_version": "1.5.0",
          "state": {
            "_model_module": "@jupyter-widgets/controls",
            "_model_module_version": "1.5.0",
            "_model_name": "DescriptionStyleModel",
            "_view_count": null,
            "_view_module": "@jupyter-widgets/base",
            "_view_module_version": "1.2.0",
            "_view_name": "StyleView",
            "description_width": ""
          }
        },
        "a14a70dfa1274fbd883add5b1e6fbfa6": {
          "model_module": "@jupyter-widgets/base",
          "model_name": "LayoutModel",
          "model_module_version": "1.2.0",
          "state": {
            "_model_module": "@jupyter-widgets/base",
            "_model_module_version": "1.2.0",
            "_model_name": "LayoutModel",
            "_view_count": null,
            "_view_module": "@jupyter-widgets/base",
            "_view_module_version": "1.2.0",
            "_view_name": "LayoutView",
            "align_content": null,
            "align_items": null,
            "align_self": null,
            "border": null,
            "bottom": null,
            "display": null,
            "flex": null,
            "flex_flow": null,
            "grid_area": null,
            "grid_auto_columns": null,
            "grid_auto_flow": null,
            "grid_auto_rows": null,
            "grid_column": null,
            "grid_gap": null,
            "grid_row": null,
            "grid_template_areas": null,
            "grid_template_columns": null,
            "grid_template_rows": null,
            "height": null,
            "justify_content": null,
            "justify_items": null,
            "left": null,
            "margin": null,
            "max_height": null,
            "max_width": null,
            "min_height": null,
            "min_width": null,
            "object_fit": null,
            "object_position": null,
            "order": null,
            "overflow": null,
            "overflow_x": null,
            "overflow_y": null,
            "padding": null,
            "right": null,
            "top": null,
            "visibility": null,
            "width": null
          }
        },
        "26ef6c771a214e4b9f1199f79f95ab95": {
          "model_module": "@jupyter-widgets/controls",
          "model_name": "ProgressStyleModel",
          "model_module_version": "1.5.0",
          "state": {
            "_model_module": "@jupyter-widgets/controls",
            "_model_module_version": "1.5.0",
            "_model_name": "ProgressStyleModel",
            "_view_count": null,
            "_view_module": "@jupyter-widgets/base",
            "_view_module_version": "1.2.0",
            "_view_name": "StyleView",
            "bar_color": null,
            "description_width": ""
          }
        },
        "8b90f10941cc4490b08b45f55267cebe": {
          "model_module": "@jupyter-widgets/base",
          "model_name": "LayoutModel",
          "model_module_version": "1.2.0",
          "state": {
            "_model_module": "@jupyter-widgets/base",
            "_model_module_version": "1.2.0",
            "_model_name": "LayoutModel",
            "_view_count": null,
            "_view_module": "@jupyter-widgets/base",
            "_view_module_version": "1.2.0",
            "_view_name": "LayoutView",
            "align_content": null,
            "align_items": null,
            "align_self": null,
            "border": null,
            "bottom": null,
            "display": null,
            "flex": null,
            "flex_flow": null,
            "grid_area": null,
            "grid_auto_columns": null,
            "grid_auto_flow": null,
            "grid_auto_rows": null,
            "grid_column": null,
            "grid_gap": null,
            "grid_row": null,
            "grid_template_areas": null,
            "grid_template_columns": null,
            "grid_template_rows": null,
            "height": null,
            "justify_content": null,
            "justify_items": null,
            "left": null,
            "margin": null,
            "max_height": null,
            "max_width": null,
            "min_height": null,
            "min_width": null,
            "object_fit": null,
            "object_position": null,
            "order": null,
            "overflow": null,
            "overflow_x": null,
            "overflow_y": null,
            "padding": null,
            "right": null,
            "top": null,
            "visibility": null,
            "width": null
          }
        },
        "493b4ee6d8d74c189115506e715a07ca": {
          "model_module": "@jupyter-widgets/controls",
          "model_name": "DescriptionStyleModel",
          "model_module_version": "1.5.0",
          "state": {
            "_model_module": "@jupyter-widgets/controls",
            "_model_module_version": "1.5.0",
            "_model_name": "DescriptionStyleModel",
            "_view_count": null,
            "_view_module": "@jupyter-widgets/base",
            "_view_module_version": "1.2.0",
            "_view_name": "StyleView",
            "description_width": ""
          }
        },
        "e2a7492a68364b87a30545e15535f154": {
          "model_module": "@jupyter-widgets/controls",
          "model_name": "HBoxModel",
          "model_module_version": "1.5.0",
          "state": {
            "_dom_classes": [],
            "_model_module": "@jupyter-widgets/controls",
            "_model_module_version": "1.5.0",
            "_model_name": "HBoxModel",
            "_view_count": null,
            "_view_module": "@jupyter-widgets/controls",
            "_view_module_version": "1.5.0",
            "_view_name": "HBoxView",
            "box_style": "",
            "children": [
              "IPY_MODEL_dac7f424ee6c47be805af03ed5a88ea4",
              "IPY_MODEL_5e35b3ef9c644bb1b081aa615e57fcf9",
              "IPY_MODEL_ea893fa3981f4a649b94f7f803561d31"
            ],
            "layout": "IPY_MODEL_fa294a8eccf84047b560c7ce1f30fb7b"
          }
        },
        "dac7f424ee6c47be805af03ed5a88ea4": {
          "model_module": "@jupyter-widgets/controls",
          "model_name": "HTMLModel",
          "model_module_version": "1.5.0",
          "state": {
            "_dom_classes": [],
            "_model_module": "@jupyter-widgets/controls",
            "_model_module_version": "1.5.0",
            "_model_name": "HTMLModel",
            "_view_count": null,
            "_view_module": "@jupyter-widgets/controls",
            "_view_module_version": "1.5.0",
            "_view_name": "HTMLView",
            "description": "",
            "description_tooltip": null,
            "layout": "IPY_MODEL_26ee13e67dde4af4a5236503a1efc33f",
            "placeholder": "​",
            "style": "IPY_MODEL_c334a346f6254962832a5e12444ba135",
            "value": "Map: 100%"
          }
        },
        "5e35b3ef9c644bb1b081aa615e57fcf9": {
          "model_module": "@jupyter-widgets/controls",
          "model_name": "FloatProgressModel",
          "model_module_version": "1.5.0",
          "state": {
            "_dom_classes": [],
            "_model_module": "@jupyter-widgets/controls",
            "_model_module_version": "1.5.0",
            "_model_name": "FloatProgressModel",
            "_view_count": null,
            "_view_module": "@jupyter-widgets/controls",
            "_view_module_version": "1.5.0",
            "_view_name": "ProgressView",
            "bar_style": "success",
            "description": "",
            "description_tooltip": null,
            "layout": "IPY_MODEL_a2a1152217c748c6bccba28485cc19b0",
            "max": 18750,
            "min": 0,
            "orientation": "horizontal",
            "style": "IPY_MODEL_554b71b5fed546119b792d400813bc1c",
            "value": 18750
          }
        },
        "ea893fa3981f4a649b94f7f803561d31": {
          "model_module": "@jupyter-widgets/controls",
          "model_name": "HTMLModel",
          "model_module_version": "1.5.0",
          "state": {
            "_dom_classes": [],
            "_model_module": "@jupyter-widgets/controls",
            "_model_module_version": "1.5.0",
            "_model_name": "HTMLModel",
            "_view_count": null,
            "_view_module": "@jupyter-widgets/controls",
            "_view_module_version": "1.5.0",
            "_view_name": "HTMLView",
            "description": "",
            "description_tooltip": null,
            "layout": "IPY_MODEL_4e560d70e6ef4f3fbfe736594953b1bd",
            "placeholder": "​",
            "style": "IPY_MODEL_71deec129ff94ee396d715ed6e5cf104",
            "value": " 18750/18750 [00:07&lt;00:00, 2700.51 examples/s]"
          }
        },
        "fa294a8eccf84047b560c7ce1f30fb7b": {
          "model_module": "@jupyter-widgets/base",
          "model_name": "LayoutModel",
          "model_module_version": "1.2.0",
          "state": {
            "_model_module": "@jupyter-widgets/base",
            "_model_module_version": "1.2.0",
            "_model_name": "LayoutModel",
            "_view_count": null,
            "_view_module": "@jupyter-widgets/base",
            "_view_module_version": "1.2.0",
            "_view_name": "LayoutView",
            "align_content": null,
            "align_items": null,
            "align_self": null,
            "border": null,
            "bottom": null,
            "display": null,
            "flex": null,
            "flex_flow": null,
            "grid_area": null,
            "grid_auto_columns": null,
            "grid_auto_flow": null,
            "grid_auto_rows": null,
            "grid_column": null,
            "grid_gap": null,
            "grid_row": null,
            "grid_template_areas": null,
            "grid_template_columns": null,
            "grid_template_rows": null,
            "height": null,
            "justify_content": null,
            "justify_items": null,
            "left": null,
            "margin": null,
            "max_height": null,
            "max_width": null,
            "min_height": null,
            "min_width": null,
            "object_fit": null,
            "object_position": null,
            "order": null,
            "overflow": null,
            "overflow_x": null,
            "overflow_y": null,
            "padding": null,
            "right": null,
            "top": null,
            "visibility": null,
            "width": null
          }
        },
        "26ee13e67dde4af4a5236503a1efc33f": {
          "model_module": "@jupyter-widgets/base",
          "model_name": "LayoutModel",
          "model_module_version": "1.2.0",
          "state": {
            "_model_module": "@jupyter-widgets/base",
            "_model_module_version": "1.2.0",
            "_model_name": "LayoutModel",
            "_view_count": null,
            "_view_module": "@jupyter-widgets/base",
            "_view_module_version": "1.2.0",
            "_view_name": "LayoutView",
            "align_content": null,
            "align_items": null,
            "align_self": null,
            "border": null,
            "bottom": null,
            "display": null,
            "flex": null,
            "flex_flow": null,
            "grid_area": null,
            "grid_auto_columns": null,
            "grid_auto_flow": null,
            "grid_auto_rows": null,
            "grid_column": null,
            "grid_gap": null,
            "grid_row": null,
            "grid_template_areas": null,
            "grid_template_columns": null,
            "grid_template_rows": null,
            "height": null,
            "justify_content": null,
            "justify_items": null,
            "left": null,
            "margin": null,
            "max_height": null,
            "max_width": null,
            "min_height": null,
            "min_width": null,
            "object_fit": null,
            "object_position": null,
            "order": null,
            "overflow": null,
            "overflow_x": null,
            "overflow_y": null,
            "padding": null,
            "right": null,
            "top": null,
            "visibility": null,
            "width": null
          }
        },
        "c334a346f6254962832a5e12444ba135": {
          "model_module": "@jupyter-widgets/controls",
          "model_name": "DescriptionStyleModel",
          "model_module_version": "1.5.0",
          "state": {
            "_model_module": "@jupyter-widgets/controls",
            "_model_module_version": "1.5.0",
            "_model_name": "DescriptionStyleModel",
            "_view_count": null,
            "_view_module": "@jupyter-widgets/base",
            "_view_module_version": "1.2.0",
            "_view_name": "StyleView",
            "description_width": ""
          }
        },
        "a2a1152217c748c6bccba28485cc19b0": {
          "model_module": "@jupyter-widgets/base",
          "model_name": "LayoutModel",
          "model_module_version": "1.2.0",
          "state": {
            "_model_module": "@jupyter-widgets/base",
            "_model_module_version": "1.2.0",
            "_model_name": "LayoutModel",
            "_view_count": null,
            "_view_module": "@jupyter-widgets/base",
            "_view_module_version": "1.2.0",
            "_view_name": "LayoutView",
            "align_content": null,
            "align_items": null,
            "align_self": null,
            "border": null,
            "bottom": null,
            "display": null,
            "flex": null,
            "flex_flow": null,
            "grid_area": null,
            "grid_auto_columns": null,
            "grid_auto_flow": null,
            "grid_auto_rows": null,
            "grid_column": null,
            "grid_gap": null,
            "grid_row": null,
            "grid_template_areas": null,
            "grid_template_columns": null,
            "grid_template_rows": null,
            "height": null,
            "justify_content": null,
            "justify_items": null,
            "left": null,
            "margin": null,
            "max_height": null,
            "max_width": null,
            "min_height": null,
            "min_width": null,
            "object_fit": null,
            "object_position": null,
            "order": null,
            "overflow": null,
            "overflow_x": null,
            "overflow_y": null,
            "padding": null,
            "right": null,
            "top": null,
            "visibility": null,
            "width": null
          }
        },
        "554b71b5fed546119b792d400813bc1c": {
          "model_module": "@jupyter-widgets/controls",
          "model_name": "ProgressStyleModel",
          "model_module_version": "1.5.0",
          "state": {
            "_model_module": "@jupyter-widgets/controls",
            "_model_module_version": "1.5.0",
            "_model_name": "ProgressStyleModel",
            "_view_count": null,
            "_view_module": "@jupyter-widgets/base",
            "_view_module_version": "1.2.0",
            "_view_name": "StyleView",
            "bar_color": null,
            "description_width": ""
          }
        },
        "4e560d70e6ef4f3fbfe736594953b1bd": {
          "model_module": "@jupyter-widgets/base",
          "model_name": "LayoutModel",
          "model_module_version": "1.2.0",
          "state": {
            "_model_module": "@jupyter-widgets/base",
            "_model_module_version": "1.2.0",
            "_model_name": "LayoutModel",
            "_view_count": null,
            "_view_module": "@jupyter-widgets/base",
            "_view_module_version": "1.2.0",
            "_view_name": "LayoutView",
            "align_content": null,
            "align_items": null,
            "align_self": null,
            "border": null,
            "bottom": null,
            "display": null,
            "flex": null,
            "flex_flow": null,
            "grid_area": null,
            "grid_auto_columns": null,
            "grid_auto_flow": null,
            "grid_auto_rows": null,
            "grid_column": null,
            "grid_gap": null,
            "grid_row": null,
            "grid_template_areas": null,
            "grid_template_columns": null,
            "grid_template_rows": null,
            "height": null,
            "justify_content": null,
            "justify_items": null,
            "left": null,
            "margin": null,
            "max_height": null,
            "max_width": null,
            "min_height": null,
            "min_width": null,
            "object_fit": null,
            "object_position": null,
            "order": null,
            "overflow": null,
            "overflow_x": null,
            "overflow_y": null,
            "padding": null,
            "right": null,
            "top": null,
            "visibility": null,
            "width": null
          }
        },
        "71deec129ff94ee396d715ed6e5cf104": {
          "model_module": "@jupyter-widgets/controls",
          "model_name": "DescriptionStyleModel",
          "model_module_version": "1.5.0",
          "state": {
            "_model_module": "@jupyter-widgets/controls",
            "_model_module_version": "1.5.0",
            "_model_name": "DescriptionStyleModel",
            "_view_count": null,
            "_view_module": "@jupyter-widgets/base",
            "_view_module_version": "1.2.0",
            "_view_name": "StyleView",
            "description_width": ""
          }
        },
        "d24ae4e95be04c45bad86a533d3f392a": {
          "model_module": "@jupyter-widgets/controls",
          "model_name": "HBoxModel",
          "model_module_version": "1.5.0",
          "state": {
            "_dom_classes": [],
            "_model_module": "@jupyter-widgets/controls",
            "_model_module_version": "1.5.0",
            "_model_name": "HBoxModel",
            "_view_count": null,
            "_view_module": "@jupyter-widgets/controls",
            "_view_module_version": "1.5.0",
            "_view_name": "HBoxView",
            "box_style": "",
            "children": [
              "IPY_MODEL_a89300f7b4274c6e8401e8501ee1a4f8",
              "IPY_MODEL_11f5060f96474982be88856c35a7c77e",
              "IPY_MODEL_76d6bd44566c47be941ed94e522baef0"
            ],
            "layout": "IPY_MODEL_d7b49ac6433c4d9cad95e50f342ba561"
          }
        },
        "a89300f7b4274c6e8401e8501ee1a4f8": {
          "model_module": "@jupyter-widgets/controls",
          "model_name": "HTMLModel",
          "model_module_version": "1.5.0",
          "state": {
            "_dom_classes": [],
            "_model_module": "@jupyter-widgets/controls",
            "_model_module_version": "1.5.0",
            "_model_name": "HTMLModel",
            "_view_count": null,
            "_view_module": "@jupyter-widgets/controls",
            "_view_module_version": "1.5.0",
            "_view_name": "HTMLView",
            "description": "",
            "description_tooltip": null,
            "layout": "IPY_MODEL_0d545049630e450c9fc6f4851f7dad9c",
            "placeholder": "​",
            "style": "IPY_MODEL_0882468fcd93423190f2c058d4fe238d",
            "value": "Map: 100%"
          }
        },
        "11f5060f96474982be88856c35a7c77e": {
          "model_module": "@jupyter-widgets/controls",
          "model_name": "FloatProgressModel",
          "model_module_version": "1.5.0",
          "state": {
            "_dom_classes": [],
            "_model_module": "@jupyter-widgets/controls",
            "_model_module_version": "1.5.0",
            "_model_name": "FloatProgressModel",
            "_view_count": null,
            "_view_module": "@jupyter-widgets/controls",
            "_view_module_version": "1.5.0",
            "_view_name": "ProgressView",
            "bar_style": "success",
            "description": "",
            "description_tooltip": null,
            "layout": "IPY_MODEL_4789ff3349884f358276eacb9ab83e51",
            "max": 25000,
            "min": 0,
            "orientation": "horizontal",
            "style": "IPY_MODEL_8e850d0ab1da48bcac3fe8b14f4d790f",
            "value": 25000
          }
        },
        "76d6bd44566c47be941ed94e522baef0": {
          "model_module": "@jupyter-widgets/controls",
          "model_name": "HTMLModel",
          "model_module_version": "1.5.0",
          "state": {
            "_dom_classes": [],
            "_model_module": "@jupyter-widgets/controls",
            "_model_module_version": "1.5.0",
            "_model_name": "HTMLModel",
            "_view_count": null,
            "_view_module": "@jupyter-widgets/controls",
            "_view_module_version": "1.5.0",
            "_view_name": "HTMLView",
            "description": "",
            "description_tooltip": null,
            "layout": "IPY_MODEL_283c249ff46e42918910a40faa3f8135",
            "placeholder": "​",
            "style": "IPY_MODEL_ae186ccdd66448f898296521c02d5d88",
            "value": " 25000/25000 [00:10&lt;00:00, 1541.43 examples/s]"
          }
        },
        "d7b49ac6433c4d9cad95e50f342ba561": {
          "model_module": "@jupyter-widgets/base",
          "model_name": "LayoutModel",
          "model_module_version": "1.2.0",
          "state": {
            "_model_module": "@jupyter-widgets/base",
            "_model_module_version": "1.2.0",
            "_model_name": "LayoutModel",
            "_view_count": null,
            "_view_module": "@jupyter-widgets/base",
            "_view_module_version": "1.2.0",
            "_view_name": "LayoutView",
            "align_content": null,
            "align_items": null,
            "align_self": null,
            "border": null,
            "bottom": null,
            "display": null,
            "flex": null,
            "flex_flow": null,
            "grid_area": null,
            "grid_auto_columns": null,
            "grid_auto_flow": null,
            "grid_auto_rows": null,
            "grid_column": null,
            "grid_gap": null,
            "grid_row": null,
            "grid_template_areas": null,
            "grid_template_columns": null,
            "grid_template_rows": null,
            "height": null,
            "justify_content": null,
            "justify_items": null,
            "left": null,
            "margin": null,
            "max_height": null,
            "max_width": null,
            "min_height": null,
            "min_width": null,
            "object_fit": null,
            "object_position": null,
            "order": null,
            "overflow": null,
            "overflow_x": null,
            "overflow_y": null,
            "padding": null,
            "right": null,
            "top": null,
            "visibility": null,
            "width": null
          }
        },
        "0d545049630e450c9fc6f4851f7dad9c": {
          "model_module": "@jupyter-widgets/base",
          "model_name": "LayoutModel",
          "model_module_version": "1.2.0",
          "state": {
            "_model_module": "@jupyter-widgets/base",
            "_model_module_version": "1.2.0",
            "_model_name": "LayoutModel",
            "_view_count": null,
            "_view_module": "@jupyter-widgets/base",
            "_view_module_version": "1.2.0",
            "_view_name": "LayoutView",
            "align_content": null,
            "align_items": null,
            "align_self": null,
            "border": null,
            "bottom": null,
            "display": null,
            "flex": null,
            "flex_flow": null,
            "grid_area": null,
            "grid_auto_columns": null,
            "grid_auto_flow": null,
            "grid_auto_rows": null,
            "grid_column": null,
            "grid_gap": null,
            "grid_row": null,
            "grid_template_areas": null,
            "grid_template_columns": null,
            "grid_template_rows": null,
            "height": null,
            "justify_content": null,
            "justify_items": null,
            "left": null,
            "margin": null,
            "max_height": null,
            "max_width": null,
            "min_height": null,
            "min_width": null,
            "object_fit": null,
            "object_position": null,
            "order": null,
            "overflow": null,
            "overflow_x": null,
            "overflow_y": null,
            "padding": null,
            "right": null,
            "top": null,
            "visibility": null,
            "width": null
          }
        },
        "0882468fcd93423190f2c058d4fe238d": {
          "model_module": "@jupyter-widgets/controls",
          "model_name": "DescriptionStyleModel",
          "model_module_version": "1.5.0",
          "state": {
            "_model_module": "@jupyter-widgets/controls",
            "_model_module_version": "1.5.0",
            "_model_name": "DescriptionStyleModel",
            "_view_count": null,
            "_view_module": "@jupyter-widgets/base",
            "_view_module_version": "1.2.0",
            "_view_name": "StyleView",
            "description_width": ""
          }
        },
        "4789ff3349884f358276eacb9ab83e51": {
          "model_module": "@jupyter-widgets/base",
          "model_name": "LayoutModel",
          "model_module_version": "1.2.0",
          "state": {
            "_model_module": "@jupyter-widgets/base",
            "_model_module_version": "1.2.0",
            "_model_name": "LayoutModel",
            "_view_count": null,
            "_view_module": "@jupyter-widgets/base",
            "_view_module_version": "1.2.0",
            "_view_name": "LayoutView",
            "align_content": null,
            "align_items": null,
            "align_self": null,
            "border": null,
            "bottom": null,
            "display": null,
            "flex": null,
            "flex_flow": null,
            "grid_area": null,
            "grid_auto_columns": null,
            "grid_auto_flow": null,
            "grid_auto_rows": null,
            "grid_column": null,
            "grid_gap": null,
            "grid_row": null,
            "grid_template_areas": null,
            "grid_template_columns": null,
            "grid_template_rows": null,
            "height": null,
            "justify_content": null,
            "justify_items": null,
            "left": null,
            "margin": null,
            "max_height": null,
            "max_width": null,
            "min_height": null,
            "min_width": null,
            "object_fit": null,
            "object_position": null,
            "order": null,
            "overflow": null,
            "overflow_x": null,
            "overflow_y": null,
            "padding": null,
            "right": null,
            "top": null,
            "visibility": null,
            "width": null
          }
        },
        "8e850d0ab1da48bcac3fe8b14f4d790f": {
          "model_module": "@jupyter-widgets/controls",
          "model_name": "ProgressStyleModel",
          "model_module_version": "1.5.0",
          "state": {
            "_model_module": "@jupyter-widgets/controls",
            "_model_module_version": "1.5.0",
            "_model_name": "ProgressStyleModel",
            "_view_count": null,
            "_view_module": "@jupyter-widgets/base",
            "_view_module_version": "1.2.0",
            "_view_name": "StyleView",
            "bar_color": null,
            "description_width": ""
          }
        },
        "283c249ff46e42918910a40faa3f8135": {
          "model_module": "@jupyter-widgets/base",
          "model_name": "LayoutModel",
          "model_module_version": "1.2.0",
          "state": {
            "_model_module": "@jupyter-widgets/base",
            "_model_module_version": "1.2.0",
            "_model_name": "LayoutModel",
            "_view_count": null,
            "_view_module": "@jupyter-widgets/base",
            "_view_module_version": "1.2.0",
            "_view_name": "LayoutView",
            "align_content": null,
            "align_items": null,
            "align_self": null,
            "border": null,
            "bottom": null,
            "display": null,
            "flex": null,
            "flex_flow": null,
            "grid_area": null,
            "grid_auto_columns": null,
            "grid_auto_flow": null,
            "grid_auto_rows": null,
            "grid_column": null,
            "grid_gap": null,
            "grid_row": null,
            "grid_template_areas": null,
            "grid_template_columns": null,
            "grid_template_rows": null,
            "height": null,
            "justify_content": null,
            "justify_items": null,
            "left": null,
            "margin": null,
            "max_height": null,
            "max_width": null,
            "min_height": null,
            "min_width": null,
            "object_fit": null,
            "object_position": null,
            "order": null,
            "overflow": null,
            "overflow_x": null,
            "overflow_y": null,
            "padding": null,
            "right": null,
            "top": null,
            "visibility": null,
            "width": null
          }
        },
        "ae186ccdd66448f898296521c02d5d88": {
          "model_module": "@jupyter-widgets/controls",
          "model_name": "DescriptionStyleModel",
          "model_module_version": "1.5.0",
          "state": {
            "_model_module": "@jupyter-widgets/controls",
            "_model_module_version": "1.5.0",
            "_model_name": "DescriptionStyleModel",
            "_view_count": null,
            "_view_module": "@jupyter-widgets/base",
            "_view_module_version": "1.2.0",
            "_view_name": "StyleView",
            "description_width": ""
          }
        },
        "8b6ea5286b49467a8f743fb16bddd29f": {
          "model_module": "@jupyter-widgets/controls",
          "model_name": "HBoxModel",
          "model_module_version": "1.5.0",
          "state": {
            "_dom_classes": [],
            "_model_module": "@jupyter-widgets/controls",
            "_model_module_version": "1.5.0",
            "_model_name": "HBoxModel",
            "_view_count": null,
            "_view_module": "@jupyter-widgets/controls",
            "_view_module_version": "1.5.0",
            "_view_name": "HBoxView",
            "box_style": "",
            "children": [
              "IPY_MODEL_639b8a51049745f2ad64f89f92285419",
              "IPY_MODEL_09e6a4aa7e6f4c2faebe6e86787b8083",
              "IPY_MODEL_05c815dec60f40b2b257ac5969917203"
            ],
            "layout": "IPY_MODEL_bb85817c52464f9a9b88028ae1fd66f6"
          }
        },
        "639b8a51049745f2ad64f89f92285419": {
          "model_module": "@jupyter-widgets/controls",
          "model_name": "HTMLModel",
          "model_module_version": "1.5.0",
          "state": {
            "_dom_classes": [],
            "_model_module": "@jupyter-widgets/controls",
            "_model_module_version": "1.5.0",
            "_model_name": "HTMLModel",
            "_view_count": null,
            "_view_module": "@jupyter-widgets/controls",
            "_view_module_version": "1.5.0",
            "_view_name": "HTMLView",
            "description": "",
            "description_tooltip": null,
            "layout": "IPY_MODEL_0653df4a25db487fbcb6189251873ec8",
            "placeholder": "​",
            "style": "IPY_MODEL_581ff7df39db4d2b85507b061b780811",
            "value": "Map: 100%"
          }
        },
        "09e6a4aa7e6f4c2faebe6e86787b8083": {
          "model_module": "@jupyter-widgets/controls",
          "model_name": "FloatProgressModel",
          "model_module_version": "1.5.0",
          "state": {
            "_dom_classes": [],
            "_model_module": "@jupyter-widgets/controls",
            "_model_module_version": "1.5.0",
            "_model_name": "FloatProgressModel",
            "_view_count": null,
            "_view_module": "@jupyter-widgets/controls",
            "_view_module_version": "1.5.0",
            "_view_name": "ProgressView",
            "bar_style": "success",
            "description": "",
            "description_tooltip": null,
            "layout": "IPY_MODEL_ce6bd299bd094774b214a5beb9486856",
            "max": 6250,
            "min": 0,
            "orientation": "horizontal",
            "style": "IPY_MODEL_091bc77cb4c84b5a9d2c2b93d1930ab4",
            "value": 6250
          }
        },
        "05c815dec60f40b2b257ac5969917203": {
          "model_module": "@jupyter-widgets/controls",
          "model_name": "HTMLModel",
          "model_module_version": "1.5.0",
          "state": {
            "_dom_classes": [],
            "_model_module": "@jupyter-widgets/controls",
            "_model_module_version": "1.5.0",
            "_model_name": "HTMLModel",
            "_view_count": null,
            "_view_module": "@jupyter-widgets/controls",
            "_view_module_version": "1.5.0",
            "_view_name": "HTMLView",
            "description": "",
            "description_tooltip": null,
            "layout": "IPY_MODEL_fd130ac7c810425884dc4c9a498a9ead",
            "placeholder": "​",
            "style": "IPY_MODEL_823bbaf8bcff4089ad438fe1b34c87ce",
            "value": " 6250/6250 [00:02&lt;00:00, 2430.33 examples/s]"
          }
        },
        "bb85817c52464f9a9b88028ae1fd66f6": {
          "model_module": "@jupyter-widgets/base",
          "model_name": "LayoutModel",
          "model_module_version": "1.2.0",
          "state": {
            "_model_module": "@jupyter-widgets/base",
            "_model_module_version": "1.2.0",
            "_model_name": "LayoutModel",
            "_view_count": null,
            "_view_module": "@jupyter-widgets/base",
            "_view_module_version": "1.2.0",
            "_view_name": "LayoutView",
            "align_content": null,
            "align_items": null,
            "align_self": null,
            "border": null,
            "bottom": null,
            "display": null,
            "flex": null,
            "flex_flow": null,
            "grid_area": null,
            "grid_auto_columns": null,
            "grid_auto_flow": null,
            "grid_auto_rows": null,
            "grid_column": null,
            "grid_gap": null,
            "grid_row": null,
            "grid_template_areas": null,
            "grid_template_columns": null,
            "grid_template_rows": null,
            "height": null,
            "justify_content": null,
            "justify_items": null,
            "left": null,
            "margin": null,
            "max_height": null,
            "max_width": null,
            "min_height": null,
            "min_width": null,
            "object_fit": null,
            "object_position": null,
            "order": null,
            "overflow": null,
            "overflow_x": null,
            "overflow_y": null,
            "padding": null,
            "right": null,
            "top": null,
            "visibility": null,
            "width": null
          }
        },
        "0653df4a25db487fbcb6189251873ec8": {
          "model_module": "@jupyter-widgets/base",
          "model_name": "LayoutModel",
          "model_module_version": "1.2.0",
          "state": {
            "_model_module": "@jupyter-widgets/base",
            "_model_module_version": "1.2.0",
            "_model_name": "LayoutModel",
            "_view_count": null,
            "_view_module": "@jupyter-widgets/base",
            "_view_module_version": "1.2.0",
            "_view_name": "LayoutView",
            "align_content": null,
            "align_items": null,
            "align_self": null,
            "border": null,
            "bottom": null,
            "display": null,
            "flex": null,
            "flex_flow": null,
            "grid_area": null,
            "grid_auto_columns": null,
            "grid_auto_flow": null,
            "grid_auto_rows": null,
            "grid_column": null,
            "grid_gap": null,
            "grid_row": null,
            "grid_template_areas": null,
            "grid_template_columns": null,
            "grid_template_rows": null,
            "height": null,
            "justify_content": null,
            "justify_items": null,
            "left": null,
            "margin": null,
            "max_height": null,
            "max_width": null,
            "min_height": null,
            "min_width": null,
            "object_fit": null,
            "object_position": null,
            "order": null,
            "overflow": null,
            "overflow_x": null,
            "overflow_y": null,
            "padding": null,
            "right": null,
            "top": null,
            "visibility": null,
            "width": null
          }
        },
        "581ff7df39db4d2b85507b061b780811": {
          "model_module": "@jupyter-widgets/controls",
          "model_name": "DescriptionStyleModel",
          "model_module_version": "1.5.0",
          "state": {
            "_model_module": "@jupyter-widgets/controls",
            "_model_module_version": "1.5.0",
            "_model_name": "DescriptionStyleModel",
            "_view_count": null,
            "_view_module": "@jupyter-widgets/base",
            "_view_module_version": "1.2.0",
            "_view_name": "StyleView",
            "description_width": ""
          }
        },
        "ce6bd299bd094774b214a5beb9486856": {
          "model_module": "@jupyter-widgets/base",
          "model_name": "LayoutModel",
          "model_module_version": "1.2.0",
          "state": {
            "_model_module": "@jupyter-widgets/base",
            "_model_module_version": "1.2.0",
            "_model_name": "LayoutModel",
            "_view_count": null,
            "_view_module": "@jupyter-widgets/base",
            "_view_module_version": "1.2.0",
            "_view_name": "LayoutView",
            "align_content": null,
            "align_items": null,
            "align_self": null,
            "border": null,
            "bottom": null,
            "display": null,
            "flex": null,
            "flex_flow": null,
            "grid_area": null,
            "grid_auto_columns": null,
            "grid_auto_flow": null,
            "grid_auto_rows": null,
            "grid_column": null,
            "grid_gap": null,
            "grid_row": null,
            "grid_template_areas": null,
            "grid_template_columns": null,
            "grid_template_rows": null,
            "height": null,
            "justify_content": null,
            "justify_items": null,
            "left": null,
            "margin": null,
            "max_height": null,
            "max_width": null,
            "min_height": null,
            "min_width": null,
            "object_fit": null,
            "object_position": null,
            "order": null,
            "overflow": null,
            "overflow_x": null,
            "overflow_y": null,
            "padding": null,
            "right": null,
            "top": null,
            "visibility": null,
            "width": null
          }
        },
        "091bc77cb4c84b5a9d2c2b93d1930ab4": {
          "model_module": "@jupyter-widgets/controls",
          "model_name": "ProgressStyleModel",
          "model_module_version": "1.5.0",
          "state": {
            "_model_module": "@jupyter-widgets/controls",
            "_model_module_version": "1.5.0",
            "_model_name": "ProgressStyleModel",
            "_view_count": null,
            "_view_module": "@jupyter-widgets/base",
            "_view_module_version": "1.2.0",
            "_view_name": "StyleView",
            "bar_color": null,
            "description_width": ""
          }
        },
        "fd130ac7c810425884dc4c9a498a9ead": {
          "model_module": "@jupyter-widgets/base",
          "model_name": "LayoutModel",
          "model_module_version": "1.2.0",
          "state": {
            "_model_module": "@jupyter-widgets/base",
            "_model_module_version": "1.2.0",
            "_model_name": "LayoutModel",
            "_view_count": null,
            "_view_module": "@jupyter-widgets/base",
            "_view_module_version": "1.2.0",
            "_view_name": "LayoutView",
            "align_content": null,
            "align_items": null,
            "align_self": null,
            "border": null,
            "bottom": null,
            "display": null,
            "flex": null,
            "flex_flow": null,
            "grid_area": null,
            "grid_auto_columns": null,
            "grid_auto_flow": null,
            "grid_auto_rows": null,
            "grid_column": null,
            "grid_gap": null,
            "grid_row": null,
            "grid_template_areas": null,
            "grid_template_columns": null,
            "grid_template_rows": null,
            "height": null,
            "justify_content": null,
            "justify_items": null,
            "left": null,
            "margin": null,
            "max_height": null,
            "max_width": null,
            "min_height": null,
            "min_width": null,
            "object_fit": null,
            "object_position": null,
            "order": null,
            "overflow": null,
            "overflow_x": null,
            "overflow_y": null,
            "padding": null,
            "right": null,
            "top": null,
            "visibility": null,
            "width": null
          }
        },
        "823bbaf8bcff4089ad438fe1b34c87ce": {
          "model_module": "@jupyter-widgets/controls",
          "model_name": "DescriptionStyleModel",
          "model_module_version": "1.5.0",
          "state": {
            "_model_module": "@jupyter-widgets/controls",
            "_model_module_version": "1.5.0",
            "_model_name": "DescriptionStyleModel",
            "_view_count": null,
            "_view_module": "@jupyter-widgets/base",
            "_view_module_version": "1.2.0",
            "_view_name": "StyleView",
            "description_width": ""
          }
        },
        "d153094c0e0247f98559fe8d997f125e": {
          "model_module": "@jupyter-widgets/controls",
          "model_name": "HBoxModel",
          "model_module_version": "1.5.0",
          "state": {
            "_dom_classes": [],
            "_model_module": "@jupyter-widgets/controls",
            "_model_module_version": "1.5.0",
            "_model_name": "HBoxModel",
            "_view_count": null,
            "_view_module": "@jupyter-widgets/controls",
            "_view_module_version": "1.5.0",
            "_view_name": "HBoxView",
            "box_style": "",
            "children": [
              "IPY_MODEL_eed9a7fc9ef14df2af2627f88a4e9079",
              "IPY_MODEL_3aa182cbbe9445f1b04f204abc365e96",
              "IPY_MODEL_b35795e12d3d45ddbfb304dc6def2db4"
            ],
            "layout": "IPY_MODEL_466bf34107024339a807777edac41788"
          }
        },
        "eed9a7fc9ef14df2af2627f88a4e9079": {
          "model_module": "@jupyter-widgets/controls",
          "model_name": "HTMLModel",
          "model_module_version": "1.5.0",
          "state": {
            "_dom_classes": [],
            "_model_module": "@jupyter-widgets/controls",
            "_model_module_version": "1.5.0",
            "_model_name": "HTMLModel",
            "_view_count": null,
            "_view_module": "@jupyter-widgets/controls",
            "_view_module_version": "1.5.0",
            "_view_name": "HTMLView",
            "description": "",
            "description_tooltip": null,
            "layout": "IPY_MODEL_b1e01e237d464f369c489a336f18abe4",
            "placeholder": "​",
            "style": "IPY_MODEL_9437c90881f74d2bae9fa04936366c1e",
            "value": ""
          }
        },
        "3aa182cbbe9445f1b04f204abc365e96": {
          "model_module": "@jupyter-widgets/controls",
          "model_name": "FloatProgressModel",
          "model_module_version": "1.5.0",
          "state": {
            "_dom_classes": [],
            "_model_module": "@jupyter-widgets/controls",
            "_model_module_version": "1.5.0",
            "_model_name": "FloatProgressModel",
            "_view_count": null,
            "_view_module": "@jupyter-widgets/controls",
            "_view_module_version": "1.5.0",
            "_view_name": "ProgressView",
            "bar_style": "success",
            "description": "",
            "description_tooltip": null,
            "layout": "IPY_MODEL_38a3c61171a540a1b4ad4f26a9e185ec",
            "max": 1,
            "min": 0,
            "orientation": "horizontal",
            "style": "IPY_MODEL_73245cbc299145729d1f235f38e20af3",
            "value": 0
          }
        },
        "b35795e12d3d45ddbfb304dc6def2db4": {
          "model_module": "@jupyter-widgets/controls",
          "model_name": "HTMLModel",
          "model_module_version": "1.5.0",
          "state": {
            "_dom_classes": [],
            "_model_module": "@jupyter-widgets/controls",
            "_model_module_version": "1.5.0",
            "_model_name": "HTMLModel",
            "_view_count": null,
            "_view_module": "@jupyter-widgets/controls",
            "_view_module_version": "1.5.0",
            "_view_name": "HTMLView",
            "description": "",
            "description_tooltip": null,
            "layout": "IPY_MODEL_c16b0b91bb0943658508e1b167d49606",
            "placeholder": "​",
            "style": "IPY_MODEL_c085e9b92ff44347b134c3eb1b3ebc16",
            "value": " 0/0 [00:00&lt;?, ?it/s]"
          }
        },
        "466bf34107024339a807777edac41788": {
          "model_module": "@jupyter-widgets/base",
          "model_name": "LayoutModel",
          "model_module_version": "1.2.0",
          "state": {
            "_model_module": "@jupyter-widgets/base",
            "_model_module_version": "1.2.0",
            "_model_name": "LayoutModel",
            "_view_count": null,
            "_view_module": "@jupyter-widgets/base",
            "_view_module_version": "1.2.0",
            "_view_name": "LayoutView",
            "align_content": null,
            "align_items": null,
            "align_self": null,
            "border": null,
            "bottom": null,
            "display": null,
            "flex": null,
            "flex_flow": null,
            "grid_area": null,
            "grid_auto_columns": null,
            "grid_auto_flow": null,
            "grid_auto_rows": null,
            "grid_column": null,
            "grid_gap": null,
            "grid_row": null,
            "grid_template_areas": null,
            "grid_template_columns": null,
            "grid_template_rows": null,
            "height": null,
            "justify_content": null,
            "justify_items": null,
            "left": null,
            "margin": null,
            "max_height": null,
            "max_width": null,
            "min_height": null,
            "min_width": null,
            "object_fit": null,
            "object_position": null,
            "order": null,
            "overflow": null,
            "overflow_x": null,
            "overflow_y": null,
            "padding": null,
            "right": null,
            "top": null,
            "visibility": null,
            "width": null
          }
        },
        "b1e01e237d464f369c489a336f18abe4": {
          "model_module": "@jupyter-widgets/base",
          "model_name": "LayoutModel",
          "model_module_version": "1.2.0",
          "state": {
            "_model_module": "@jupyter-widgets/base",
            "_model_module_version": "1.2.0",
            "_model_name": "LayoutModel",
            "_view_count": null,
            "_view_module": "@jupyter-widgets/base",
            "_view_module_version": "1.2.0",
            "_view_name": "LayoutView",
            "align_content": null,
            "align_items": null,
            "align_self": null,
            "border": null,
            "bottom": null,
            "display": null,
            "flex": null,
            "flex_flow": null,
            "grid_area": null,
            "grid_auto_columns": null,
            "grid_auto_flow": null,
            "grid_auto_rows": null,
            "grid_column": null,
            "grid_gap": null,
            "grid_row": null,
            "grid_template_areas": null,
            "grid_template_columns": null,
            "grid_template_rows": null,
            "height": null,
            "justify_content": null,
            "justify_items": null,
            "left": null,
            "margin": null,
            "max_height": null,
            "max_width": null,
            "min_height": null,
            "min_width": null,
            "object_fit": null,
            "object_position": null,
            "order": null,
            "overflow": null,
            "overflow_x": null,
            "overflow_y": null,
            "padding": null,
            "right": null,
            "top": null,
            "visibility": null,
            "width": null
          }
        },
        "9437c90881f74d2bae9fa04936366c1e": {
          "model_module": "@jupyter-widgets/controls",
          "model_name": "DescriptionStyleModel",
          "model_module_version": "1.5.0",
          "state": {
            "_model_module": "@jupyter-widgets/controls",
            "_model_module_version": "1.5.0",
            "_model_name": "DescriptionStyleModel",
            "_view_count": null,
            "_view_module": "@jupyter-widgets/base",
            "_view_module_version": "1.2.0",
            "_view_name": "StyleView",
            "description_width": ""
          }
        },
        "38a3c61171a540a1b4ad4f26a9e185ec": {
          "model_module": "@jupyter-widgets/base",
          "model_name": "LayoutModel",
          "model_module_version": "1.2.0",
          "state": {
            "_model_module": "@jupyter-widgets/base",
            "_model_module_version": "1.2.0",
            "_model_name": "LayoutModel",
            "_view_count": null,
            "_view_module": "@jupyter-widgets/base",
            "_view_module_version": "1.2.0",
            "_view_name": "LayoutView",
            "align_content": null,
            "align_items": null,
            "align_self": null,
            "border": null,
            "bottom": null,
            "display": null,
            "flex": null,
            "flex_flow": null,
            "grid_area": null,
            "grid_auto_columns": null,
            "grid_auto_flow": null,
            "grid_auto_rows": null,
            "grid_column": null,
            "grid_gap": null,
            "grid_row": null,
            "grid_template_areas": null,
            "grid_template_columns": null,
            "grid_template_rows": null,
            "height": null,
            "justify_content": null,
            "justify_items": null,
            "left": null,
            "margin": null,
            "max_height": null,
            "max_width": null,
            "min_height": null,
            "min_width": null,
            "object_fit": null,
            "object_position": null,
            "order": null,
            "overflow": null,
            "overflow_x": null,
            "overflow_y": null,
            "padding": null,
            "right": null,
            "top": null,
            "visibility": null,
            "width": "20px"
          }
        },
        "73245cbc299145729d1f235f38e20af3": {
          "model_module": "@jupyter-widgets/controls",
          "model_name": "ProgressStyleModel",
          "model_module_version": "1.5.0",
          "state": {
            "_model_module": "@jupyter-widgets/controls",
            "_model_module_version": "1.5.0",
            "_model_name": "ProgressStyleModel",
            "_view_count": null,
            "_view_module": "@jupyter-widgets/base",
            "_view_module_version": "1.2.0",
            "_view_name": "StyleView",
            "bar_color": null,
            "description_width": ""
          }
        },
        "c16b0b91bb0943658508e1b167d49606": {
          "model_module": "@jupyter-widgets/base",
          "model_name": "LayoutModel",
          "model_module_version": "1.2.0",
          "state": {
            "_model_module": "@jupyter-widgets/base",
            "_model_module_version": "1.2.0",
            "_model_name": "LayoutModel",
            "_view_count": null,
            "_view_module": "@jupyter-widgets/base",
            "_view_module_version": "1.2.0",
            "_view_name": "LayoutView",
            "align_content": null,
            "align_items": null,
            "align_self": null,
            "border": null,
            "bottom": null,
            "display": null,
            "flex": null,
            "flex_flow": null,
            "grid_area": null,
            "grid_auto_columns": null,
            "grid_auto_flow": null,
            "grid_auto_rows": null,
            "grid_column": null,
            "grid_gap": null,
            "grid_row": null,
            "grid_template_areas": null,
            "grid_template_columns": null,
            "grid_template_rows": null,
            "height": null,
            "justify_content": null,
            "justify_items": null,
            "left": null,
            "margin": null,
            "max_height": null,
            "max_width": null,
            "min_height": null,
            "min_width": null,
            "object_fit": null,
            "object_position": null,
            "order": null,
            "overflow": null,
            "overflow_x": null,
            "overflow_y": null,
            "padding": null,
            "right": null,
            "top": null,
            "visibility": null,
            "width": null
          }
        },
        "c085e9b92ff44347b134c3eb1b3ebc16": {
          "model_module": "@jupyter-widgets/controls",
          "model_name": "DescriptionStyleModel",
          "model_module_version": "1.5.0",
          "state": {
            "_model_module": "@jupyter-widgets/controls",
            "_model_module_version": "1.5.0",
            "_model_name": "DescriptionStyleModel",
            "_view_count": null,
            "_view_module": "@jupyter-widgets/base",
            "_view_module_version": "1.2.0",
            "_view_name": "StyleView",
            "description_width": ""
          }
        }
      }
    }
  },
  "cells": [
    {
      "cell_type": "code",
      "source": [
        "!pip install torchtext"
      ],
      "metadata": {
        "colab": {
          "base_uri": "https://localhost:8080/"
        },
        "id": "eb-Gbc5aQsDj",
        "outputId": "0de96c99-85f1-4749-d71d-eb0119f2bdab"
      },
      "execution_count": 7,
      "outputs": [
        {
          "output_type": "stream",
          "name": "stdout",
          "text": [
            "Requirement already satisfied: torchtext in /usr/local/lib/python3.11/dist-packages (0.16.0)\n",
            "Requirement already satisfied: tqdm in /usr/local/lib/python3.11/dist-packages (from torchtext) (4.67.1)\n",
            "Requirement already satisfied: requests in /usr/local/lib/python3.11/dist-packages (from torchtext) (2.32.3)\n",
            "Requirement already satisfied: torch==2.1.0 in /usr/local/lib/python3.11/dist-packages (from torchtext) (2.1.0)\n",
            "Requirement already satisfied: numpy in /usr/local/lib/python3.11/dist-packages (from torchtext) (1.26.4)\n",
            "Requirement already satisfied: torchdata==0.7.0 in /usr/local/lib/python3.11/dist-packages (from torchtext) (0.7.0)\n",
            "Requirement already satisfied: filelock in /usr/local/lib/python3.11/dist-packages (from torch==2.1.0->torchtext) (3.17.0)\n",
            "Requirement already satisfied: typing-extensions in /usr/local/lib/python3.11/dist-packages (from torch==2.1.0->torchtext) (4.12.2)\n",
            "Requirement already satisfied: sympy in /usr/local/lib/python3.11/dist-packages (from torch==2.1.0->torchtext) (1.13.1)\n",
            "Requirement already satisfied: networkx in /usr/local/lib/python3.11/dist-packages (from torch==2.1.0->torchtext) (3.4.2)\n",
            "Requirement already satisfied: jinja2 in /usr/local/lib/python3.11/dist-packages (from torch==2.1.0->torchtext) (3.1.5)\n",
            "Requirement already satisfied: fsspec in /usr/local/lib/python3.11/dist-packages (from torch==2.1.0->torchtext) (2024.10.0)\n",
            "Requirement already satisfied: nvidia-cuda-nvrtc-cu12==12.1.105 in /usr/local/lib/python3.11/dist-packages (from torch==2.1.0->torchtext) (12.1.105)\n",
            "Requirement already satisfied: nvidia-cuda-runtime-cu12==12.1.105 in /usr/local/lib/python3.11/dist-packages (from torch==2.1.0->torchtext) (12.1.105)\n",
            "Requirement already satisfied: nvidia-cuda-cupti-cu12==12.1.105 in /usr/local/lib/python3.11/dist-packages (from torch==2.1.0->torchtext) (12.1.105)\n",
            "Requirement already satisfied: nvidia-cudnn-cu12==8.9.2.26 in /usr/local/lib/python3.11/dist-packages (from torch==2.1.0->torchtext) (8.9.2.26)\n",
            "Requirement already satisfied: nvidia-cublas-cu12==12.1.3.1 in /usr/local/lib/python3.11/dist-packages (from torch==2.1.0->torchtext) (12.1.3.1)\n",
            "Requirement already satisfied: nvidia-cufft-cu12==11.0.2.54 in /usr/local/lib/python3.11/dist-packages (from torch==2.1.0->torchtext) (11.0.2.54)\n",
            "Requirement already satisfied: nvidia-curand-cu12==10.3.2.106 in /usr/local/lib/python3.11/dist-packages (from torch==2.1.0->torchtext) (10.3.2.106)\n",
            "Requirement already satisfied: nvidia-cusolver-cu12==11.4.5.107 in /usr/local/lib/python3.11/dist-packages (from torch==2.1.0->torchtext) (11.4.5.107)\n",
            "Requirement already satisfied: nvidia-cusparse-cu12==12.1.0.106 in /usr/local/lib/python3.11/dist-packages (from torch==2.1.0->torchtext) (12.1.0.106)\n",
            "Requirement already satisfied: nvidia-nccl-cu12==2.18.1 in /usr/local/lib/python3.11/dist-packages (from torch==2.1.0->torchtext) (2.18.1)\n",
            "Requirement already satisfied: nvidia-nvtx-cu12==12.1.105 in /usr/local/lib/python3.11/dist-packages (from torch==2.1.0->torchtext) (12.1.105)\n",
            "Requirement already satisfied: triton==2.1.0 in /usr/local/lib/python3.11/dist-packages (from torch==2.1.0->torchtext) (2.1.0)\n",
            "Requirement already satisfied: urllib3>=1.25 in /usr/local/lib/python3.11/dist-packages (from torchdata==0.7.0->torchtext) (2.3.0)\n",
            "Requirement already satisfied: nvidia-nvjitlink-cu12 in /usr/local/lib/python3.11/dist-packages (from nvidia-cusolver-cu12==11.4.5.107->torch==2.1.0->torchtext) (12.4.127)\n",
            "Requirement already satisfied: charset-normalizer<4,>=2 in /usr/local/lib/python3.11/dist-packages (from requests->torchtext) (3.4.1)\n",
            "Requirement already satisfied: idna<4,>=2.5 in /usr/local/lib/python3.11/dist-packages (from requests->torchtext) (3.10)\n",
            "Requirement already satisfied: certifi>=2017.4.17 in /usr/local/lib/python3.11/dist-packages (from requests->torchtext) (2025.1.31)\n",
            "Requirement already satisfied: MarkupSafe>=2.0 in /usr/local/lib/python3.11/dist-packages (from jinja2->torch==2.1.0->torchtext) (3.0.2)\n",
            "Requirement already satisfied: mpmath<1.4,>=1.1.0 in /usr/local/lib/python3.11/dist-packages (from sympy->torch==2.1.0->torchtext) (1.3.0)\n"
          ]
        }
      ]
    },
    {
      "cell_type": "code",
      "source": [
        "import collections\n",
        "import numpy as np\n",
        "import matplotlib.pyplot as plt\n",
        "import torch\n",
        "import torch.nn as nn\n",
        "import torch.optim as optim\n",
        "import torchtext\n",
        "import datasets\n",
        "import tqdm"
      ],
      "metadata": {
        "id": "tZ6KhpLwQ2Rt"
      },
      "execution_count": 8,
      "outputs": []
    },
    {
      "cell_type": "code",
      "source": [
        "seed = 1234\n",
        "\n",
        "np.random.seed(seed)\n",
        "torch.manual_seed(seed)\n",
        "torch.cuda.manual_seed(seed)\n",
        "torch.backends.cudnn.deterministic = True"
      ],
      "metadata": {
        "id": "ds12wyeVS3Jz"
      },
      "execution_count": 10,
      "outputs": []
    },
    {
      "cell_type": "markdown",
      "source": [
        "**Loading the dataset**"
      ],
      "metadata": {
        "id": "A1Idb9DqVHmv"
      }
    },
    {
      "cell_type": "code",
      "source": [
        "train_data, test_data = datasets.load_dataset(\"imdb\", split=[\"train\", \"test\"])"
      ],
      "metadata": {
        "colab": {
          "base_uri": "https://localhost:8080/"
        },
        "id": "J18-n9v7UUHL",
        "outputId": "abc6ca62-a9ec-4884-dc93-991c3e82c8d1"
      },
      "execution_count": 11,
      "outputs": [
        {
          "output_type": "stream",
          "name": "stderr",
          "text": [
            "/usr/local/lib/python3.11/dist-packages/huggingface_hub/utils/_auth.py:94: UserWarning: \n",
            "The secret `HF_TOKEN` does not exist in your Colab secrets.\n",
            "To authenticate with the Hugging Face Hub, create a token in your settings tab (https://huggingface.co/settings/tokens), set it as secret in your Google Colab and restart your session.\n",
            "You will be able to reuse this secret in all of your notebooks.\n",
            "Please note that authentication is recommended but still optional to access public models or datasets.\n",
            "  warnings.warn(\n"
          ]
        }
      ]
    },
    {
      "cell_type": "code",
      "source": [
        "train_data"
      ],
      "metadata": {
        "colab": {
          "base_uri": "https://localhost:8080/"
        },
        "id": "gy-u4gQDVU18",
        "outputId": "6fcc9b81-a431-4eb8-ddf6-61febbfc0517"
      },
      "execution_count": 12,
      "outputs": [
        {
          "output_type": "execute_result",
          "data": {
            "text/plain": [
              "Dataset({\n",
              "    features: ['text', 'label'],\n",
              "    num_rows: 25000\n",
              "})"
            ]
          },
          "metadata": {},
          "execution_count": 12
        }
      ]
    },
    {
      "cell_type": "code",
      "source": [
        "train_data.features"
      ],
      "metadata": {
        "colab": {
          "base_uri": "https://localhost:8080/"
        },
        "id": "OQLQUW-aVuFB",
        "outputId": "3daa8b31-0c30-496d-c062-5337ec336079"
      },
      "execution_count": 13,
      "outputs": [
        {
          "output_type": "execute_result",
          "data": {
            "text/plain": [
              "{'text': Value(dtype='string', id=None),\n",
              " 'label': ClassLabel(names=['neg', 'pos'], id=None)}"
            ]
          },
          "metadata": {},
          "execution_count": 13
        }
      ]
    },
    {
      "cell_type": "code",
      "source": [
        "train_data[0]"
      ],
      "metadata": {
        "colab": {
          "base_uri": "https://localhost:8080/"
        },
        "id": "qDxh-x9kVzDh",
        "outputId": "73373fe9-0955-406f-8a74-76fc2c722c08"
      },
      "execution_count": 14,
      "outputs": [
        {
          "output_type": "execute_result",
          "data": {
            "text/plain": [
              "{'text': 'I rented I AM CURIOUS-YELLOW from my video store because of all the controversy that surrounded it when it was first released in 1967. I also heard that at first it was seized by U.S. customs if it ever tried to enter this country, therefore being a fan of films considered \"controversial\" I really had to see this for myself.<br /><br />The plot is centered around a young Swedish drama student named Lena who wants to learn everything she can about life. In particular she wants to focus her attentions to making some sort of documentary on what the average Swede thought about certain political issues such as the Vietnam War and race issues in the United States. In between asking politicians and ordinary denizens of Stockholm about their opinions on politics, she has sex with her drama teacher, classmates, and married men.<br /><br />What kills me about I AM CURIOUS-YELLOW is that 40 years ago, this was considered pornographic. Really, the sex and nudity scenes are few and far between, even then it\\'s not shot like some cheaply made porno. While my countrymen mind find it shocking, in reality sex and nudity are a major staple in Swedish cinema. Even Ingmar Bergman, arguably their answer to good old boy John Ford, had sex scenes in his films.<br /><br />I do commend the filmmakers for the fact that any sex shown in the film is shown for artistic purposes rather than just to shock people and make money to be shown in pornographic theaters in America. I AM CURIOUS-YELLOW is a good film for anyone wanting to study the meat and potatoes (no pun intended) of Swedish cinema. But really, this film doesn\\'t have much of a plot.',\n",
              " 'label': 0}"
            ]
          },
          "metadata": {},
          "execution_count": 14
        }
      ]
    },
    {
      "cell_type": "code",
      "source": [
        "train_data.shape"
      ],
      "metadata": {
        "colab": {
          "base_uri": "https://localhost:8080/"
        },
        "id": "SB8TWSpQV3Bp",
        "outputId": "c4d52fbb-1ccf-4753-8e39-6bb7ede11d9f"
      },
      "execution_count": 15,
      "outputs": [
        {
          "output_type": "execute_result",
          "data": {
            "text/plain": [
              "(25000, 2)"
            ]
          },
          "metadata": {},
          "execution_count": 15
        }
      ]
    },
    {
      "cell_type": "markdown",
      "source": [
        "Tokenization of words using *basic_english* from *torchtext*"
      ],
      "metadata": {
        "id": "m8QL8VEtWOpj"
      }
    },
    {
      "cell_type": "code",
      "source": [
        "import torchtext"
      ],
      "metadata": {
        "id": "HvkVuWJzbUMK"
      },
      "execution_count": 16,
      "outputs": []
    },
    {
      "cell_type": "code",
      "source": [
        "tokenizer =  torchtext.data.utils.get_tokenizer(\"basic_english\")"
      ],
      "metadata": {
        "id": "AiVH5kqxb7aH"
      },
      "execution_count": 17,
      "outputs": []
    },
    {
      "cell_type": "code",
      "source": [
        "tokenizer(\"Hi there! What a beautiful morning\")"
      ],
      "metadata": {
        "colab": {
          "base_uri": "https://localhost:8080/"
        },
        "id": "9I87Jxa0cFiT",
        "outputId": "c4b42453-5c48-496a-f306-7d611b977537"
      },
      "execution_count": 18,
      "outputs": [
        {
          "output_type": "execute_result",
          "data": {
            "text/plain": [
              "['hi', 'there', '!', 'what', 'a', 'beautiful', 'morning']"
            ]
          },
          "metadata": {},
          "execution_count": 18
        }
      ]
    },
    {
      "cell_type": "markdown",
      "source": [
        "**Tokenizing our dataset**"
      ],
      "metadata": {
        "id": "nVEfEV2sdUqt"
      }
    },
    {
      "cell_type": "code",
      "source": [
        "def tokenize_example(example, tokenizer, max_length):\n",
        "    tokens = tokenizer(example[\"text\"])[:max_length]\n",
        "    return {\"tokens\": tokens}"
      ],
      "metadata": {
        "id": "D1f89z3kchRo"
      },
      "execution_count": 19,
      "outputs": []
    },
    {
      "cell_type": "code",
      "source": [
        "train_data"
      ],
      "metadata": {
        "colab": {
          "base_uri": "https://localhost:8080/"
        },
        "id": "ryB6IYP8dvcx",
        "outputId": "ec630fda-9375-40bd-d2fd-0b4e7e2fef00"
      },
      "execution_count": 20,
      "outputs": [
        {
          "output_type": "execute_result",
          "data": {
            "text/plain": [
              "Dataset({\n",
              "    features: ['text', 'label'],\n",
              "    num_rows: 25000\n",
              "})"
            ]
          },
          "metadata": {},
          "execution_count": 20
        }
      ]
    },
    {
      "cell_type": "code",
      "source": [
        "max_length = 256\n",
        "\n",
        "train_data = train_data.map(\n",
        "    tokenize_example, fn_kwargs={\"tokenizer\": tokenizer, \"max_length\": max_length}\n",
        ")\n",
        "test_data = test_data.map(\n",
        "    tokenize_example, fn_kwargs={\"tokenizer\": tokenizer, \"max_length\": max_length}\n",
        ")"
      ],
      "metadata": {
        "colab": {
          "base_uri": "https://localhost:8080/",
          "height": 81,
          "referenced_widgets": [
            "6283e6d8e6ba4ecfa75597f52f63bd27",
            "d21c2f1c76a543319f05976bfb5945bc",
            "a151926bcbb146a5b06723a5aaef83ee",
            "fb8a9fb09052400cbc9bca1c4f54620d",
            "4ad6c2597fc7482fb8f97f8e572b8d40",
            "e16963d1711d4af6941d2a4848757be1",
            "b720365cdb284f60836e41f400fb2706",
            "c7a49c2c027f47f7af5db97ec609f770",
            "89b2636f636c4e6dba2d0d8e07729c37",
            "685245522ba0488f9c7bc5fd33fce9de",
            "84d6e7b10eeb40e1877c5f10526de73e",
            "ca27ae75f39d46179b7fd7833dc7f31f",
            "b45c70a02e6844ddb79df8518b1cb9ec",
            "0c2e1c89bc4e4cccb7a301b1b13f233e",
            "0d94fbeba9a24b2c8feb940e510ec83c",
            "082d2bbf50b640d5b8952c6d52f5f4cd",
            "9b80462db0d34a3388187b85a20d8e3e",
            "d79dff0feb8f4f12acd24c3454c40a46",
            "a14a70dfa1274fbd883add5b1e6fbfa6",
            "26ef6c771a214e4b9f1199f79f95ab95",
            "8b90f10941cc4490b08b45f55267cebe",
            "493b4ee6d8d74c189115506e715a07ca"
          ]
        },
        "id": "dIFGb1PbcySG",
        "outputId": "687d54af-9c61-43a4-b087-201d04ebab76"
      },
      "execution_count": 21,
      "outputs": [
        {
          "output_type": "display_data",
          "data": {
            "text/plain": [
              "Map:   0%|          | 0/25000 [00:00<?, ? examples/s]"
            ],
            "application/vnd.jupyter.widget-view+json": {
              "version_major": 2,
              "version_minor": 0,
              "model_id": "6283e6d8e6ba4ecfa75597f52f63bd27"
            }
          },
          "metadata": {}
        },
        {
          "output_type": "display_data",
          "data": {
            "text/plain": [
              "Map:   0%|          | 0/25000 [00:00<?, ? examples/s]"
            ],
            "application/vnd.jupyter.widget-view+json": {
              "version_major": 2,
              "version_minor": 0,
              "model_id": "ca27ae75f39d46179b7fd7833dc7f31f"
            }
          },
          "metadata": {}
        }
      ]
    },
    {
      "cell_type": "code",
      "source": [
        "train_data[0][\"text\"]"
      ],
      "metadata": {
        "colab": {
          "base_uri": "https://localhost:8080/",
          "height": 143
        },
        "id": "HZKW44YVd-qu",
        "outputId": "126265bf-cb66-470c-de46-ebf1845f9131"
      },
      "execution_count": 24,
      "outputs": [
        {
          "output_type": "execute_result",
          "data": {
            "text/plain": [
              "'I rented I AM CURIOUS-YELLOW from my video store because of all the controversy that surrounded it when it was first released in 1967. I also heard that at first it was seized by U.S. customs if it ever tried to enter this country, therefore being a fan of films considered \"controversial\" I really had to see this for myself.<br /><br />The plot is centered around a young Swedish drama student named Lena who wants to learn everything she can about life. In particular she wants to focus her attentions to making some sort of documentary on what the average Swede thought about certain political issues such as the Vietnam War and race issues in the United States. In between asking politicians and ordinary denizens of Stockholm about their opinions on politics, she has sex with her drama teacher, classmates, and married men.<br /><br />What kills me about I AM CURIOUS-YELLOW is that 40 years ago, this was considered pornographic. Really, the sex and nudity scenes are few and far between, even then it\\'s not shot like some cheaply made porno. While my countrymen mind find it shocking, in reality sex and nudity are a major staple in Swedish cinema. Even Ingmar Bergman, arguably their answer to good old boy John Ford, had sex scenes in his films.<br /><br />I do commend the filmmakers for the fact that any sex shown in the film is shown for artistic purposes rather than just to shock people and make money to be shown in pornographic theaters in America. I AM CURIOUS-YELLOW is a good film for anyone wanting to study the meat and potatoes (no pun intended) of Swedish cinema. But really, this film doesn\\'t have much of a plot.'"
            ],
            "application/vnd.google.colaboratory.intrinsic+json": {
              "type": "string"
            }
          },
          "metadata": {},
          "execution_count": 24
        }
      ]
    },
    {
      "cell_type": "code",
      "source": [
        "train_data[0][\"label\"]"
      ],
      "metadata": {
        "colab": {
          "base_uri": "https://localhost:8080/"
        },
        "id": "RKbYk8INeAFJ",
        "outputId": "49a29e47-b12c-4483-9315-70417f90bb0d"
      },
      "execution_count": 26,
      "outputs": [
        {
          "output_type": "execute_result",
          "data": {
            "text/plain": [
              "0"
            ]
          },
          "metadata": {},
          "execution_count": 26
        }
      ]
    },
    {
      "cell_type": "code",
      "source": [
        "train_data[0][\"tokens\"]"
      ],
      "metadata": {
        "colab": {
          "base_uri": "https://localhost:8080/"
        },
        "id": "C_jbx6greMyl",
        "outputId": "46c74094-aa5b-4536-edcc-e5914775296d"
      },
      "execution_count": 27,
      "outputs": [
        {
          "output_type": "execute_result",
          "data": {
            "text/plain": [
              "['i',\n",
              " 'rented',\n",
              " 'i',\n",
              " 'am',\n",
              " 'curious-yellow',\n",
              " 'from',\n",
              " 'my',\n",
              " 'video',\n",
              " 'store',\n",
              " 'because',\n",
              " 'of',\n",
              " 'all',\n",
              " 'the',\n",
              " 'controversy',\n",
              " 'that',\n",
              " 'surrounded',\n",
              " 'it',\n",
              " 'when',\n",
              " 'it',\n",
              " 'was',\n",
              " 'first',\n",
              " 'released',\n",
              " 'in',\n",
              " '1967',\n",
              " '.',\n",
              " 'i',\n",
              " 'also',\n",
              " 'heard',\n",
              " 'that',\n",
              " 'at',\n",
              " 'first',\n",
              " 'it',\n",
              " 'was',\n",
              " 'seized',\n",
              " 'by',\n",
              " 'u',\n",
              " '.',\n",
              " 's',\n",
              " '.',\n",
              " 'customs',\n",
              " 'if',\n",
              " 'it',\n",
              " 'ever',\n",
              " 'tried',\n",
              " 'to',\n",
              " 'enter',\n",
              " 'this',\n",
              " 'country',\n",
              " ',',\n",
              " 'therefore',\n",
              " 'being',\n",
              " 'a',\n",
              " 'fan',\n",
              " 'of',\n",
              " 'films',\n",
              " 'considered',\n",
              " 'controversial',\n",
              " 'i',\n",
              " 'really',\n",
              " 'had',\n",
              " 'to',\n",
              " 'see',\n",
              " 'this',\n",
              " 'for',\n",
              " 'myself',\n",
              " '.',\n",
              " 'the',\n",
              " 'plot',\n",
              " 'is',\n",
              " 'centered',\n",
              " 'around',\n",
              " 'a',\n",
              " 'young',\n",
              " 'swedish',\n",
              " 'drama',\n",
              " 'student',\n",
              " 'named',\n",
              " 'lena',\n",
              " 'who',\n",
              " 'wants',\n",
              " 'to',\n",
              " 'learn',\n",
              " 'everything',\n",
              " 'she',\n",
              " 'can',\n",
              " 'about',\n",
              " 'life',\n",
              " '.',\n",
              " 'in',\n",
              " 'particular',\n",
              " 'she',\n",
              " 'wants',\n",
              " 'to',\n",
              " 'focus',\n",
              " 'her',\n",
              " 'attentions',\n",
              " 'to',\n",
              " 'making',\n",
              " 'some',\n",
              " 'sort',\n",
              " 'of',\n",
              " 'documentary',\n",
              " 'on',\n",
              " 'what',\n",
              " 'the',\n",
              " 'average',\n",
              " 'swede',\n",
              " 'thought',\n",
              " 'about',\n",
              " 'certain',\n",
              " 'political',\n",
              " 'issues',\n",
              " 'such',\n",
              " 'as',\n",
              " 'the',\n",
              " 'vietnam',\n",
              " 'war',\n",
              " 'and',\n",
              " 'race',\n",
              " 'issues',\n",
              " 'in',\n",
              " 'the',\n",
              " 'united',\n",
              " 'states',\n",
              " '.',\n",
              " 'in',\n",
              " 'between',\n",
              " 'asking',\n",
              " 'politicians',\n",
              " 'and',\n",
              " 'ordinary',\n",
              " 'denizens',\n",
              " 'of',\n",
              " 'stockholm',\n",
              " 'about',\n",
              " 'their',\n",
              " 'opinions',\n",
              " 'on',\n",
              " 'politics',\n",
              " ',',\n",
              " 'she',\n",
              " 'has',\n",
              " 'sex',\n",
              " 'with',\n",
              " 'her',\n",
              " 'drama',\n",
              " 'teacher',\n",
              " ',',\n",
              " 'classmates',\n",
              " ',',\n",
              " 'and',\n",
              " 'married',\n",
              " 'men',\n",
              " '.',\n",
              " 'what',\n",
              " 'kills',\n",
              " 'me',\n",
              " 'about',\n",
              " 'i',\n",
              " 'am',\n",
              " 'curious-yellow',\n",
              " 'is',\n",
              " 'that',\n",
              " '40',\n",
              " 'years',\n",
              " 'ago',\n",
              " ',',\n",
              " 'this',\n",
              " 'was',\n",
              " 'considered',\n",
              " 'pornographic',\n",
              " '.',\n",
              " 'really',\n",
              " ',',\n",
              " 'the',\n",
              " 'sex',\n",
              " 'and',\n",
              " 'nudity',\n",
              " 'scenes',\n",
              " 'are',\n",
              " 'few',\n",
              " 'and',\n",
              " 'far',\n",
              " 'between',\n",
              " ',',\n",
              " 'even',\n",
              " 'then',\n",
              " 'it',\n",
              " \"'\",\n",
              " 's',\n",
              " 'not',\n",
              " 'shot',\n",
              " 'like',\n",
              " 'some',\n",
              " 'cheaply',\n",
              " 'made',\n",
              " 'porno',\n",
              " '.',\n",
              " 'while',\n",
              " 'my',\n",
              " 'countrymen',\n",
              " 'mind',\n",
              " 'find',\n",
              " 'it',\n",
              " 'shocking',\n",
              " ',',\n",
              " 'in',\n",
              " 'reality',\n",
              " 'sex',\n",
              " 'and',\n",
              " 'nudity',\n",
              " 'are',\n",
              " 'a',\n",
              " 'major',\n",
              " 'staple',\n",
              " 'in',\n",
              " 'swedish',\n",
              " 'cinema',\n",
              " '.',\n",
              " 'even',\n",
              " 'ingmar',\n",
              " 'bergman',\n",
              " ',',\n",
              " 'arguably',\n",
              " 'their',\n",
              " 'answer',\n",
              " 'to',\n",
              " 'good',\n",
              " 'old',\n",
              " 'boy',\n",
              " 'john',\n",
              " 'ford',\n",
              " ',',\n",
              " 'had',\n",
              " 'sex',\n",
              " 'scenes',\n",
              " 'in',\n",
              " 'his',\n",
              " 'films',\n",
              " '.',\n",
              " 'i',\n",
              " 'do',\n",
              " 'commend',\n",
              " 'the',\n",
              " 'filmmakers',\n",
              " 'for',\n",
              " 'the',\n",
              " 'fact',\n",
              " 'that',\n",
              " 'any',\n",
              " 'sex',\n",
              " 'shown',\n",
              " 'in',\n",
              " 'the',\n",
              " 'film',\n",
              " 'is']"
            ]
          },
          "metadata": {},
          "execution_count": 27
        }
      ]
    },
    {
      "cell_type": "code",
      "source": [],
      "metadata": {
        "id": "eVs7FUEGozns"
      },
      "execution_count": 103,
      "outputs": []
    },
    {
      "cell_type": "markdown",
      "source": [
        "**We have converted our dataset into tokens of words stored in list using torchtext**"
      ],
      "metadata": {
        "id": "ESLgvmFneS0W"
      }
    },
    {
      "cell_type": "markdown",
      "source": [
        "Creating validation set from training set"
      ],
      "metadata": {
        "id": "ouPXvqdqfO0c"
      }
    },
    {
      "cell_type": "code",
      "source": [
        "test_size = 0.25\n",
        "\n",
        "train_valid_data = train_data.train_test_split(test_size=test_size)\n",
        "train_data = train_valid_data[\"train\"]\n",
        "valid_data = train_valid_data[\"test\"]"
      ],
      "metadata": {
        "id": "LzcIxyAIeQKM"
      },
      "execution_count": 28,
      "outputs": []
    },
    {
      "cell_type": "code",
      "source": [
        "print(f\"train set length : {len(train_data)}\\t validation set length : {len(valid_data)}\\t test set length : {len(test_data)}\")"
      ],
      "metadata": {
        "colab": {
          "base_uri": "https://localhost:8080/"
        },
        "id": "qNnl4ofBfljE",
        "outputId": "bbd8db59-33c8-42c6-f162-336412cbf625"
      },
      "execution_count": 29,
      "outputs": [
        {
          "output_type": "stream",
          "name": "stdout",
          "text": [
            "train set length : 18750\t validation set length : 6250\t test set length : 25000\n"
          ]
        }
      ]
    },
    {
      "cell_type": "markdown",
      "source": [
        "# Creating a vocabulary\n",
        "\n",
        "We use the *build_vocab_from_iterator* function from *torchtext.vocab* to create our vocabulary, specifying the min_freq (the minimum amount of times a token should appear to be added to the vocabulary) and special_tokens (tokens which should be appended to the start of the vocabulary, even if they don't appear min_freq times in the dataset).\n",
        "\n",
        "### Special tokens\n",
        "\n",
        "\n",
        "*   pad : used for pading sentences\n",
        "*   unk : used for unknown tokens replacement\n",
        "\n",
        "\n",
        "#### Rule of thumb - we will only store a token in our dictionary only if it appears more than *min_freq*\n",
        "\n",
        "\n"
      ],
      "metadata": {
        "id": "5IPD9hy1gVSZ"
      }
    },
    {
      "cell_type": "code",
      "source": [
        "min_freq = 5\n",
        "special_tokens = [\"<unk>\",\"<pad>\"]\n",
        "\n",
        "vocab = torchtext.vocab.build_vocab_from_iterator(\n",
        "    train_data[\"tokens\"],\n",
        "    min_freq=min_freq,\n",
        "    specials= special_tokens\n",
        ")\n"
      ],
      "metadata": {
        "id": "FoacZO4af0CQ"
      },
      "execution_count": 30,
      "outputs": []
    },
    {
      "cell_type": "code",
      "source": [
        "len(vocab)"
      ],
      "metadata": {
        "colab": {
          "base_uri": "https://localhost:8080/"
        },
        "id": "cqKGXxe1hyTv",
        "outputId": "412851cd-b687-4085-928b-af9628c9068e"
      },
      "execution_count": 31,
      "outputs": [
        {
          "output_type": "execute_result",
          "data": {
            "text/plain": [
              "21635"
            ]
          },
          "metadata": {},
          "execution_count": 31
        }
      ]
    },
    {
      "cell_type": "code",
      "source": [
        "vocab.get_itos()[:10]"
      ],
      "metadata": {
        "colab": {
          "base_uri": "https://localhost:8080/"
        },
        "id": "cMY2SClqiB_b",
        "outputId": "945cd8b4-5a4b-4b4c-8163-8b3efd70f999"
      },
      "execution_count": 34,
      "outputs": [
        {
          "output_type": "execute_result",
          "data": {
            "text/plain": [
              "['<unk>', '<pad>', 'the', '.', ',', 'a', 'and', 'of', 'to', \"'\"]"
            ]
          },
          "metadata": {},
          "execution_count": 34
        }
      ]
    },
    {
      "cell_type": "code",
      "source": [
        "vocab[\"a\"]"
      ],
      "metadata": {
        "colab": {
          "base_uri": "https://localhost:8080/"
        },
        "id": "3VJK1qm6iagk",
        "outputId": "8ed0d297-bc8f-4f01-f127-e152404ae911"
      },
      "execution_count": 35,
      "outputs": [
        {
          "output_type": "execute_result",
          "data": {
            "text/plain": [
              "5"
            ]
          },
          "metadata": {},
          "execution_count": 35
        }
      ]
    },
    {
      "cell_type": "code",
      "source": [
        "## how to check if a token is in our dictionary vocab or not\n",
        "\"some_token\" in vocab"
      ],
      "metadata": {
        "colab": {
          "base_uri": "https://localhost:8080/"
        },
        "id": "FP6OdMP5kyCN",
        "outputId": "15966571-e5be-465c-8a6e-fb3309281408"
      },
      "execution_count": 36,
      "outputs": [
        {
          "output_type": "execute_result",
          "data": {
            "text/plain": [
              "False"
            ]
          },
          "metadata": {},
          "execution_count": 36
        }
      ]
    },
    {
      "cell_type": "code",
      "source": [
        "# lets take the index of unk token and tab token as we'll need those ahead\n",
        "unk_idx = vocab[\"<unk>\"]\n",
        "pad_idx = vocab[\"<pad>\"]"
      ],
      "metadata": {
        "id": "pvk77Q-Ak9gi"
      },
      "execution_count": 37,
      "outputs": []
    },
    {
      "cell_type": "code",
      "source": [
        "print(f\"unk_idx : {unk_idx}\")\n",
        "print(f\"pad_idx : {pad_idx}\")"
      ],
      "metadata": {
        "colab": {
          "base_uri": "https://localhost:8080/"
        },
        "id": "zbUK6pnTlVhx",
        "outputId": "ac56e24e-1efd-4a66-cad2-d95e6eb087f0"
      },
      "execution_count": 38,
      "outputs": [
        {
          "output_type": "stream",
          "name": "stdout",
          "text": [
            "unk_idx : 0\n",
            "pad_idx : 1\n"
          ]
        }
      ]
    },
    {
      "cell_type": "code",
      "source": [
        "# set the default return index of a token when a token is not present in vocab\n",
        "vocab.set_default_index(unk_idx)"
      ],
      "metadata": {
        "id": "ehvL_P51lcjP"
      },
      "execution_count": 39,
      "outputs": []
    },
    {
      "cell_type": "code",
      "source": [
        "vocab[\"some_token\"]"
      ],
      "metadata": {
        "colab": {
          "base_uri": "https://localhost:8080/"
        },
        "id": "FrJMSEB7lmYU",
        "outputId": "e08fbf48-13ff-482e-9447-9032ddc6d2d8"
      },
      "execution_count": 40,
      "outputs": [
        {
          "output_type": "execute_result",
          "data": {
            "text/plain": [
              "0"
            ]
          },
          "metadata": {},
          "execution_count": 40
        }
      ]
    },
    {
      "cell_type": "code",
      "source": [
        "# to look up the index of a list of tokens\n",
        "vocab.lookup_indices([\"hello\",\"world\",\"hey\",\"<pad>\"])"
      ],
      "metadata": {
        "colab": {
          "base_uri": "https://localhost:8080/"
        },
        "id": "0KvHEAoilpEz",
        "outputId": "a8565e07-85d1-470c-a6db-389787aa6e3a"
      },
      "execution_count": 41,
      "outputs": [
        {
          "output_type": "execute_result",
          "data": {
            "text/plain": [
              "[5516, 184, 1302, 1]"
            ]
          },
          "metadata": {},
          "execution_count": 41
        }
      ]
    },
    {
      "cell_type": "markdown",
      "source": [
        "## Numericalising the data\n",
        "\n",
        "Saving the token indices separately for further vectorization"
      ],
      "metadata": {
        "id": "q5JaCPjxmuYT"
      }
    },
    {
      "cell_type": "code",
      "source": [
        "len(train_data[\"label\"])"
      ],
      "metadata": {
        "colab": {
          "base_uri": "https://localhost:8080/"
        },
        "id": "seE13MgVnAwS",
        "outputId": "c5b2699c-d857-42d1-9814-304b6362994f"
      },
      "execution_count": 49,
      "outputs": [
        {
          "output_type": "execute_result",
          "data": {
            "text/plain": [
              "18750"
            ]
          },
          "metadata": {},
          "execution_count": 49
        }
      ]
    },
    {
      "cell_type": "code",
      "source": [
        "def get_indices(example, vocab):\n",
        "  indices = vocab.lookup_indices(example[\"tokens\"])\n",
        "  return {\"indices\" : indices}"
      ],
      "metadata": {
        "id": "ngKRxHvemmTc"
      },
      "execution_count": 50,
      "outputs": []
    },
    {
      "cell_type": "code",
      "source": [
        "train_data = train_data.map(get_indices,fn_kwargs={\"vocab\" : vocab})\n",
        "test_data = test_data.map(get_indices,fn_kwargs={\"vocab\" : vocab})\n",
        "valid_data = valid_data.map(get_indices,fn_kwargs={\"vocab\" : vocab})"
      ],
      "metadata": {
        "colab": {
          "base_uri": "https://localhost:8080/",
          "height": 113,
          "referenced_widgets": [
            "e2a7492a68364b87a30545e15535f154",
            "dac7f424ee6c47be805af03ed5a88ea4",
            "5e35b3ef9c644bb1b081aa615e57fcf9",
            "ea893fa3981f4a649b94f7f803561d31",
            "fa294a8eccf84047b560c7ce1f30fb7b",
            "26ee13e67dde4af4a5236503a1efc33f",
            "c334a346f6254962832a5e12444ba135",
            "a2a1152217c748c6bccba28485cc19b0",
            "554b71b5fed546119b792d400813bc1c",
            "4e560d70e6ef4f3fbfe736594953b1bd",
            "71deec129ff94ee396d715ed6e5cf104",
            "d24ae4e95be04c45bad86a533d3f392a",
            "a89300f7b4274c6e8401e8501ee1a4f8",
            "11f5060f96474982be88856c35a7c77e",
            "76d6bd44566c47be941ed94e522baef0",
            "d7b49ac6433c4d9cad95e50f342ba561",
            "0d545049630e450c9fc6f4851f7dad9c",
            "0882468fcd93423190f2c058d4fe238d",
            "4789ff3349884f358276eacb9ab83e51",
            "8e850d0ab1da48bcac3fe8b14f4d790f",
            "283c249ff46e42918910a40faa3f8135",
            "ae186ccdd66448f898296521c02d5d88",
            "8b6ea5286b49467a8f743fb16bddd29f",
            "639b8a51049745f2ad64f89f92285419",
            "09e6a4aa7e6f4c2faebe6e86787b8083",
            "05c815dec60f40b2b257ac5969917203",
            "bb85817c52464f9a9b88028ae1fd66f6",
            "0653df4a25db487fbcb6189251873ec8",
            "581ff7df39db4d2b85507b061b780811",
            "ce6bd299bd094774b214a5beb9486856",
            "091bc77cb4c84b5a9d2c2b93d1930ab4",
            "fd130ac7c810425884dc4c9a498a9ead",
            "823bbaf8bcff4089ad438fe1b34c87ce"
          ]
        },
        "id": "Qxr5hWxpl4lj",
        "outputId": "604925fa-5997-467d-bf2f-901e4456fecf"
      },
      "execution_count": 51,
      "outputs": [
        {
          "output_type": "display_data",
          "data": {
            "text/plain": [
              "Map:   0%|          | 0/18750 [00:00<?, ? examples/s]"
            ],
            "application/vnd.jupyter.widget-view+json": {
              "version_major": 2,
              "version_minor": 0,
              "model_id": "e2a7492a68364b87a30545e15535f154"
            }
          },
          "metadata": {}
        },
        {
          "output_type": "display_data",
          "data": {
            "text/plain": [
              "Map:   0%|          | 0/25000 [00:00<?, ? examples/s]"
            ],
            "application/vnd.jupyter.widget-view+json": {
              "version_major": 2,
              "version_minor": 0,
              "model_id": "d24ae4e95be04c45bad86a533d3f392a"
            }
          },
          "metadata": {}
        },
        {
          "output_type": "display_data",
          "data": {
            "text/plain": [
              "Map:   0%|          | 0/6250 [00:00<?, ? examples/s]"
            ],
            "application/vnd.jupyter.widget-view+json": {
              "version_major": 2,
              "version_minor": 0,
              "model_id": "8b6ea5286b49467a8f743fb16bddd29f"
            }
          },
          "metadata": {}
        }
      ]
    },
    {
      "cell_type": "code",
      "source": [
        "print(f\"tokens : {train_data[0]['tokens']}\")\n",
        "print(f\"indices : {train_data[0]['indices']}\")"
      ],
      "metadata": {
        "colab": {
          "base_uri": "https://localhost:8080/"
        },
        "id": "O7hGdx6Rn-UJ",
        "outputId": "3bc413c2-41fe-497b-ace6-76cb0b22c710"
      },
      "execution_count": 52,
      "outputs": [
        {
          "output_type": "stream",
          "name": "stdout",
          "text": [
            "tokens : ['look', ',', 'this', 'is', 'quite', 'possibly', 'one', 'of', 'the', 'best', 'movies', 'america', 'has', 'to', 'offer', 'the', 'rest', 'of', 'the', 'world', '.', 'to', 'hate', 'this', 'movie', 'is', 'to', 'hate', 'freedom', 'itself', '.', 'i', 'remember', 'that', 'the', 'early', '80', \"'\", 's', 'were', 'a', 'time', 'of', 'uncertainty', '.', 'the', 'economy', 'was', 'weak', ',', 'communism', 'threatened', 'us', 'all', ',', 'and', 'nuclear', 'destruction', 'was', 'almost', 'a', 'certainty', '.', 'out', 'of', 'that', 'confusion', 'came', 'a', 'hero', ',', 'stroker', 'ace', '.', 'ned', 'beatty', \"'\", 's', 'performance', 'in', 'this', 'movie', 'showed', 'he', 'was', 'never', 'again', 'to', 'be', 'type', 'cast', 'as', 'a', 'one', 'dimensional', 'victim', 'in', 'the', 'wilderness', '.', 'his', 'triumph', 'is', 'an', 'inspiration', 'to', 'all', '.', 'the', 'on-screen', 'chemistry', 'between', 'burt', 'and', 'loni', 'draws', 'obvious', 'comparisons', 'to', 'brad', 'and', 'jennifer', '.', 'jim', 'nabors', 'is', 'a', 'poet', '.', 'go', 'see', 'this', 'movie', 'tonight', '!']\n",
            "indices : [180, 4, 14, 10, 191, 841, 34, 7, 2, 121, 98, 816, 50, 8, 1516, 2, 380, 7, 2, 184, 3, 8, 805, 14, 18, 10, 8, 805, 2246, 429, 3, 12, 347, 15, 2, 388, 1025, 9, 16, 76, 5, 64, 7, 11198, 3, 2, 9212, 17, 761, 4, 7812, 5460, 198, 37, 4, 6, 3653, 3683, 17, 226, 5, 11893, 3, 53, 7, 15, 3310, 354, 5, 689, 4, 0, 5471, 3, 2706, 3826, 9, 16, 246, 13, 14, 18, 1111, 33, 17, 126, 188, 8, 35, 597, 181, 19, 5, 34, 3942, 1381, 13, 2, 5370, 3, 32, 4228, 10, 41, 2825, 8, 37, 3, 2, 4411, 1141, 213, 2655, 6, 16946, 3729, 590, 4845, 8, 2416, 6, 1953, 3, 1159, 20751, 10, 5, 8718, 3, 149, 74, 14, 18, 4292, 36]\n"
          ]
        }
      ]
    },
    {
      "cell_type": "markdown",
      "source": [
        "#### Converting labels and indices into pytorch tensors"
      ],
      "metadata": {
        "id": "cnBVzJIAopgC"
      }
    },
    {
      "cell_type": "code",
      "source": [
        "train_data = train_data.with_format(type=\"torch\",columns=[\"label\",\"indices\"])\n",
        "test_data = test_data.with_format(type=\"torch\",columns=[\"label\",\"indices\"])\n",
        "valid_data = valid_data.with_format(type=\"torch\",columns=[\"label\",\"indices\"])"
      ],
      "metadata": {
        "id": "3kCufJDYoaIC"
      },
      "execution_count": 53,
      "outputs": []
    },
    {
      "cell_type": "markdown",
      "source": [
        "## Creating Data loaders"
      ],
      "metadata": {
        "id": "J5yXbHENq_ZT"
      }
    },
    {
      "cell_type": "code",
      "source": [
        "def get_collate_function(pad_index):\n",
        "  def collate_function(batch):\n",
        "    batch_indices = [i[\"indices\"] for i in batch]\n",
        "    batch_indices = nn.utils.rnn.pad_sequence(\n",
        "        batch_indices,padding_value=pad_index,batch_first=True\n",
        "    )\n",
        "    batch_label = [i[\"label\"] for i in batch]\n",
        "    batch_label = torch.stack(batch_label)\n",
        "    batch = {\"indices\" : batch_indices, \"label\" : batch_label}\n",
        "    return batch\n",
        "\n",
        "  return collate_function\n",
        "\n"
      ],
      "metadata": {
        "id": "pUUihvHyo9jL"
      },
      "execution_count": 55,
      "outputs": []
    },
    {
      "cell_type": "code",
      "source": [
        "def get_data_loader(dataset,batch_size,pad_index,shuffle = False):\n",
        "  collate_fn = get_collate_function(pad_index)\n",
        "  data_loader = torch.utils.data.DataLoader(\n",
        "      dataset=dataset,\n",
        "      batch_size = batch_size,\n",
        "      collate_fn = collate_fn,\n",
        "      shuffle = shuffle\n",
        "  )\n",
        "  return data_loader"
      ],
      "metadata": {
        "id": "vD3w3DuxsPD0"
      },
      "execution_count": 59,
      "outputs": []
    },
    {
      "cell_type": "code",
      "source": [
        "batch_size = 512\n",
        "\n",
        "train_data_loader = get_data_loader(train_data,batch_size,pad_index=pad_idx,shuffle=True)\n",
        "test_data_loader = get_data_loader(test_data,batch_size,pad_index=pad_idx)\n",
        "valid_data_data_loader = get_data_loader(valid_data,batch_size,pad_index=pad_idx)\n"
      ],
      "metadata": {
        "id": "tiIOYbcWtAwP"
      },
      "execution_count": 60,
      "outputs": []
    },
    {
      "cell_type": "markdown",
      "source": [
        "## Building the model"
      ],
      "metadata": {
        "id": "szfha79h3Br8"
      }
    },
    {
      "cell_type": "code",
      "source": [
        "class NBoW(nn.Module):\n",
        "  def __init__(self, vocab_size, embedding_dim, output_dim, pad_index):\n",
        "    super().__init__()\n",
        "    self.embedding = nn.Embedding(vocab_size, embedding_dim=embedding_dim, padding_idx=pad_idx)\n",
        "    self.fc = nn.Linear(embedding_dim,output_dim)\n",
        "\n",
        "  def forward(self,ids):\n",
        "    embedded = self.embedding(ids)\n",
        "    pooled = embedded.mean(dim=1)\n",
        "    prediction = self.fc(pooled)\n",
        "    return prediction"
      ],
      "metadata": {
        "id": "ec7F65_NtWMB"
      },
      "execution_count": 64,
      "outputs": []
    },
    {
      "cell_type": "code",
      "source": [
        "vocab_size  = len(vocab)\n",
        "embedding_dim = 300\n",
        "output_dim = len(train_data.unique(\"label\"))\n",
        "\n",
        "model = NBoW(vocab_size,embedding_dim,output_dim,pad_idx)"
      ],
      "metadata": {
        "id": "mYoKlb8V4RMS"
      },
      "execution_count": 65,
      "outputs": []
    },
    {
      "cell_type": "code",
      "source": [
        "def count_params(model):\n",
        "  return sum(p.numel() for p in model.parameters() if p.requires_grad)\n",
        "\n",
        "print(f\"The model has {count_params(model)} trainable params\")"
      ],
      "metadata": {
        "colab": {
          "base_uri": "https://localhost:8080/"
        },
        "id": "5mJfN8k06lvr",
        "outputId": "d7aacc95-259c-483a-9d4c-2089c598df8b"
      },
      "execution_count": 67,
      "outputs": [
        {
          "output_type": "stream",
          "name": "stdout",
          "text": [
            "The model has 6491102 trainable params\n"
          ]
        }
      ]
    },
    {
      "cell_type": "code",
      "source": [
        "vectors = torchtext.vocab.GloVe()\n"
      ],
      "metadata": {
        "colab": {
          "base_uri": "https://localhost:8080/"
        },
        "id": "jRhJwgFe7CcF",
        "outputId": "d8e644ef-2392-481a-a420-cd4417ab4aa1"
      },
      "execution_count": 68,
      "outputs": [
        {
          "metadata": {
            "tags": null
          },
          "name": "stderr",
          "output_type": "stream",
          "text": [
            ".vector_cache/glove.840B.300d.zip: 2.18GB [06:54, 5.25MB/s]                            \n",
            "100%|█████████▉| 2196016/2196017 [03:21<00:00, 10908.94it/s]\n"
          ]
        }
      ]
    },
    {
      "cell_type": "code",
      "source": [
        "hello_vector = vectors.get_vecs_by_tokens(\"hello\")"
      ],
      "metadata": {
        "id": "k5qOn_2b7Uw0"
      },
      "execution_count": 69,
      "outputs": []
    },
    {
      "cell_type": "code",
      "source": [
        "hello_vector.shape"
      ],
      "metadata": {
        "colab": {
          "base_uri": "https://localhost:8080/"
        },
        "id": "mOl1uPWJ_qGu",
        "outputId": "e4c42aab-9904-4647-a6fa-32791fb9f610"
      },
      "execution_count": 71,
      "outputs": [
        {
          "output_type": "execute_result",
          "data": {
            "text/plain": [
              "torch.Size([300])"
            ]
          },
          "metadata": {},
          "execution_count": 71
        }
      ]
    },
    {
      "cell_type": "code",
      "source": [
        "pretrained_embeddings = vectors.get_vecs_by_tokens(vocab.get_itos())"
      ],
      "metadata": {
        "id": "YvnwG8KT_q8B"
      },
      "execution_count": 72,
      "outputs": []
    },
    {
      "cell_type": "code",
      "source": [
        "pretrained_embeddings.shape"
      ],
      "metadata": {
        "colab": {
          "base_uri": "https://localhost:8080/"
        },
        "id": "ZS9oc2Y6AFkl",
        "outputId": "ecda1b0b-a9fc-4b5c-f7d0-81258153346e"
      },
      "execution_count": 74,
      "outputs": [
        {
          "output_type": "execute_result",
          "data": {
            "text/plain": [
              "torch.Size([21635, 300])"
            ]
          },
          "metadata": {},
          "execution_count": 74
        }
      ]
    },
    {
      "cell_type": "code",
      "source": [
        "model.embedding.weight"
      ],
      "metadata": {
        "colab": {
          "base_uri": "https://localhost:8080/"
        },
        "id": "-aXxk57JAHsL",
        "outputId": "3aad6e9f-172c-4786-c0f8-58f2d1997195"
      },
      "execution_count": 75,
      "outputs": [
        {
          "output_type": "execute_result",
          "data": {
            "text/plain": [
              "Parameter containing:\n",
              "tensor([[-0.1117, -0.4966,  0.1631,  ..., -0.5592, -0.4480, -0.6476],\n",
              "        [ 0.0000,  0.0000,  0.0000,  ...,  0.0000,  0.0000,  0.0000],\n",
              "        [ 0.7882, -1.6625, -0.7064,  ..., -1.5841, -0.3711, -1.2338],\n",
              "        ...,\n",
              "        [-0.1833,  0.2245, -0.3846,  ..., -0.8093, -1.5803,  2.2097],\n",
              "        [ 0.8763, -0.4503, -0.3297,  ...,  1.0524, -0.3182, -0.0381],\n",
              "        [-0.7596,  0.6286,  0.0057,  ..., -0.8484, -0.1224,  1.3181]],\n",
              "       requires_grad=True)"
            ]
          },
          "metadata": {},
          "execution_count": 75
        }
      ]
    },
    {
      "cell_type": "code",
      "source": [
        "pretrained_embeddings"
      ],
      "metadata": {
        "colab": {
          "base_uri": "https://localhost:8080/"
        },
        "id": "EtKtUOtgAPVV",
        "outputId": "0eacf2fc-8a12-48f4-c20b-66e288f1eba1"
      },
      "execution_count": 76,
      "outputs": [
        {
          "output_type": "execute_result",
          "data": {
            "text/plain": [
              "tensor([[ 0.0000,  0.0000,  0.0000,  ...,  0.0000,  0.0000,  0.0000],\n",
              "        [ 0.0000,  0.0000,  0.0000,  ...,  0.0000,  0.0000,  0.0000],\n",
              "        [ 0.2720, -0.0620, -0.1884,  ...,  0.1302, -0.1832,  0.1323],\n",
              "        ...,\n",
              "        [ 0.1662,  0.2845,  0.4958,  ..., -0.5733, -0.4675, -0.0965],\n",
              "        [ 0.0000,  0.0000,  0.0000,  ...,  0.0000,  0.0000,  0.0000],\n",
              "        [ 0.2701,  0.6335,  0.2016,  ..., -0.4568,  0.5783, -0.5545]])"
            ]
          },
          "metadata": {},
          "execution_count": 76
        }
      ]
    },
    {
      "cell_type": "code",
      "source": [
        "model.embedding.weight.data = pretrained_embeddings"
      ],
      "metadata": {
        "id": "Q8lG6-DuAXQ_"
      },
      "execution_count": 77,
      "outputs": []
    },
    {
      "cell_type": "code",
      "source": [
        "optimizer = optim.Adam(model.parameters())"
      ],
      "metadata": {
        "colab": {
          "base_uri": "https://localhost:8080/",
          "height": 87,
          "referenced_widgets": [
            "d153094c0e0247f98559fe8d997f125e",
            "eed9a7fc9ef14df2af2627f88a4e9079",
            "3aa182cbbe9445f1b04f204abc365e96",
            "b35795e12d3d45ddbfb304dc6def2db4",
            "466bf34107024339a807777edac41788",
            "b1e01e237d464f369c489a336f18abe4",
            "9437c90881f74d2bae9fa04936366c1e",
            "38a3c61171a540a1b4ad4f26a9e185ec",
            "73245cbc299145729d1f235f38e20af3",
            "c16b0b91bb0943658508e1b167d49606",
            "c085e9b92ff44347b134c3eb1b3ebc16"
          ]
        },
        "id": "WNx3cFbqAio2",
        "outputId": "8a7a03b6-080e-4d52-9895-6f94a02d5cf4"
      },
      "execution_count": 78,
      "outputs": [
        {
          "output_type": "stream",
          "name": "stderr",
          "text": [
            "The cache for model files in Transformers v4.22.0 has been updated. Migrating your old cache. This is a one-time only operation. You can interrupt this and resume the migration later on by calling `transformers.utils.move_cache()`.\n"
          ]
        },
        {
          "output_type": "display_data",
          "data": {
            "text/plain": [
              "0it [00:00, ?it/s]"
            ],
            "application/vnd.jupyter.widget-view+json": {
              "version_major": 2,
              "version_minor": 0,
              "model_id": "d153094c0e0247f98559fe8d997f125e"
            }
          },
          "metadata": {}
        }
      ]
    },
    {
      "cell_type": "code",
      "source": [
        "criterion = nn.CrossEntropyLoss()"
      ],
      "metadata": {
        "id": "67pMNXmGAvYr"
      },
      "execution_count": 79,
      "outputs": []
    },
    {
      "cell_type": "code",
      "source": [
        "device = torch.device(\"cuda\" if torch.cuda.is_available() else \"cpu\")"
      ],
      "metadata": {
        "id": "K3Ix1RD1A0QW"
      },
      "execution_count": 80,
      "outputs": []
    },
    {
      "cell_type": "code",
      "source": [
        "device"
      ],
      "metadata": {
        "colab": {
          "base_uri": "https://localhost:8080/"
        },
        "id": "peBeqbyNRb-z",
        "outputId": "1646c162-9531-4d29-be0d-0cf731373186"
      },
      "execution_count": 81,
      "outputs": [
        {
          "output_type": "execute_result",
          "data": {
            "text/plain": [
              "device(type='cpu')"
            ]
          },
          "metadata": {},
          "execution_count": 81
        }
      ]
    },
    {
      "cell_type": "code",
      "source": [
        "model = model.to(device)\n",
        "criterion = criterion.to(device)"
      ],
      "metadata": {
        "id": "aAJg6e2uRchg"
      },
      "execution_count": 82,
      "outputs": []
    },
    {
      "cell_type": "code",
      "source": [
        "def train(data_loader,model,criterion,optimizer,device):\n",
        "  model.train()\n",
        "  epoch_losses = []\n",
        "  epoch_accs = []\n",
        "  for batch in tqdm.tqdm(data_loader,desc = \"training...\"):\n",
        "    ids = batch[\"indices\"].to(device)\n",
        "    label = batch[\"label\"].to(device)\n",
        "    prediction = model(ids)\n",
        "    loss = criterion(prediction,label)\n",
        "    accuracy = get_accuracy(prediction, label)\n",
        "    optimizer.zero_grad()\n",
        "    loss.backward()\n",
        "    optimizer.step()\n",
        "    epoch_losses.append(loss.item())\n",
        "    epoch_accs.append(accuracy.item())\n",
        "\n",
        "  return np.mean(epoch_losses),np.mean(epoch_accs)"
      ],
      "metadata": {
        "id": "9oHTWHfAR1QC"
      },
      "execution_count": 88,
      "outputs": []
    },
    {
      "cell_type": "code",
      "source": [
        "def evaluate(data_loader,model,criterion,device):\n",
        "  model.eval()\n",
        "  epoch_losses = []\n",
        "  epoch_accs = []\n",
        "  with torch.no_grad():\n",
        "    for batch in tqdm.tqdm(data_loader,desc = \"evaluating...\"):\n",
        "      ids = batch[\"indices\"].to(device)\n",
        "      labels = batch[\"label\"].to(device)\n",
        "      prediction = model(ids)\n",
        "      loss = criterion(prediction,labels)\n",
        "      accuarcy = get_accuracy(prediction,labels)\n",
        "      epoch_losses.append(loss.item())\n",
        "      epoch_accs.append(accuarcy.item())\n",
        "  return np.mean(epoch_losses),np.mean(epoch_accs)"
      ],
      "metadata": {
        "id": "zr8e7cZOTTFI"
      },
      "execution_count": 85,
      "outputs": []
    },
    {
      "cell_type": "code",
      "source": [
        "def get_accuracy(prediction, label):\n",
        "  batch_size,_ = prediction.shape\n",
        "  predicted_classes = prediction.argmax(dim=-1)\n",
        "  correct_predictions = predicted_classes.eq(label).sum()\n",
        "  accuracy = correct_predictions/batch_size\n",
        "  return accuracy"
      ],
      "metadata": {
        "id": "FAGtWUVIUisQ"
      },
      "execution_count": 86,
      "outputs": []
    },
    {
      "cell_type": "code",
      "source": [
        "n_epochs = 10\n",
        "best_valid_loss = float(\"inf\")\n",
        "\n",
        "metrics = collections.defaultdict(list)\n",
        "for epoch in range(n_epochs):\n",
        "  train_loss, train_acc = train(train_data_loader, model=model, criterion=criterion, optimizer=optimizer, device=device)\n",
        "  valid_loss, valid_acc = evaluate(valid_data_data_loader, model, criterion, device)\n",
        "  metrics[\"train_losses\"].append(train_loss)\n",
        "  metrics[\"train_acc\"].append(train_acc)\n",
        "  metrics[\"validation_losses\"].append(valid_loss)\n",
        "  metrics[\"validation_acc\"].append(valid_acc)\n",
        "  if valid_loss < best_valid_loss:\n",
        "    best_valid_loss = valid_loss\n",
        "    torch.save(model.state_dict(), \"nbow.pt\")\n",
        "  print(f\"epoch : {epoch}\")\n",
        "  print(f\"train_loss : {train_loss:.3f}, train_accuracy : {train_acc:.3f}\")\n",
        "  print(f\"validation loss : {valid_loss:.3f} , validation accuracy : {valid_acc:.3f}\")"
      ],
      "metadata": {
        "colab": {
          "base_uri": "https://localhost:8080/"
        },
        "id": "KRwIJOZ_VNkU",
        "outputId": "d4119680-030c-4d0d-ec6b-d040c8e7e456"
      },
      "execution_count": 89,
      "outputs": [
        {
          "output_type": "stream",
          "name": "stderr",
          "text": [
            "training...: 100%|██████████| 37/37 [00:10<00:00,  3.53it/s]\n",
            "evaluating...: 100%|██████████| 13/13 [00:01<00:00,  9.58it/s]\n"
          ]
        },
        {
          "output_type": "stream",
          "name": "stdout",
          "text": [
            "epoch : 0\n",
            "train_loss : 0.678, train_accuracy : 0.638\n",
            "validation loss : 0.659 , validation accuracy : 0.725\n"
          ]
        },
        {
          "output_type": "stream",
          "name": "stderr",
          "text": [
            "training...: 100%|██████████| 37/37 [00:09<00:00,  4.03it/s]\n",
            "evaluating...: 100%|██████████| 13/13 [00:01<00:00, 10.02it/s]\n"
          ]
        },
        {
          "output_type": "stream",
          "name": "stdout",
          "text": [
            "epoch : 1\n",
            "train_loss : 0.633, train_accuracy : 0.738\n",
            "validation loss : 0.606 , validation accuracy : 0.755\n"
          ]
        },
        {
          "output_type": "stream",
          "name": "stderr",
          "text": [
            "training...: 100%|██████████| 37/37 [00:09<00:00,  4.05it/s]\n",
            "evaluating...: 100%|██████████| 13/13 [00:01<00:00, 10.25it/s]\n"
          ]
        },
        {
          "output_type": "stream",
          "name": "stdout",
          "text": [
            "epoch : 2\n",
            "train_loss : 0.569, train_accuracy : 0.776\n",
            "validation loss : 0.542 , validation accuracy : 0.782\n"
          ]
        },
        {
          "output_type": "stream",
          "name": "stderr",
          "text": [
            "training...: 100%|██████████| 37/37 [00:08<00:00,  4.20it/s]\n",
            "evaluating...: 100%|██████████| 13/13 [00:01<00:00,  7.96it/s]\n"
          ]
        },
        {
          "output_type": "stream",
          "name": "stdout",
          "text": [
            "epoch : 3\n",
            "train_loss : 0.497, train_accuracy : 0.817\n",
            "validation loss : 0.477 , validation accuracy : 0.822\n"
          ]
        },
        {
          "output_type": "stream",
          "name": "stderr",
          "text": [
            "training...: 100%|██████████| 37/37 [00:08<00:00,  4.18it/s]\n",
            "evaluating...: 100%|██████████| 13/13 [00:01<00:00,  8.27it/s]\n"
          ]
        },
        {
          "output_type": "stream",
          "name": "stdout",
          "text": [
            "epoch : 4\n",
            "train_loss : 0.432, train_accuracy : 0.850\n",
            "validation loss : 0.427 , validation accuracy : 0.843\n"
          ]
        },
        {
          "output_type": "stream",
          "name": "stderr",
          "text": [
            "training...: 100%|██████████| 37/37 [00:08<00:00,  4.17it/s]\n",
            "evaluating...: 100%|██████████| 13/13 [00:01<00:00,  8.11it/s]\n"
          ]
        },
        {
          "output_type": "stream",
          "name": "stdout",
          "text": [
            "epoch : 5\n",
            "train_loss : 0.379, train_accuracy : 0.872\n",
            "validation loss : 0.393 , validation accuracy : 0.850\n"
          ]
        },
        {
          "output_type": "stream",
          "name": "stderr",
          "text": [
            "training...: 100%|██████████| 37/37 [00:08<00:00,  4.21it/s]\n",
            "evaluating...: 100%|██████████| 13/13 [00:01<00:00, 10.03it/s]\n"
          ]
        },
        {
          "output_type": "stream",
          "name": "stdout",
          "text": [
            "epoch : 6\n",
            "train_loss : 0.339, train_accuracy : 0.885\n",
            "validation loss : 0.364 , validation accuracy : 0.862\n"
          ]
        },
        {
          "output_type": "stream",
          "name": "stderr",
          "text": [
            "training...: 100%|██████████| 37/37 [00:09<00:00,  4.05it/s]\n",
            "evaluating...: 100%|██████████| 13/13 [00:01<00:00, 10.27it/s]\n"
          ]
        },
        {
          "output_type": "stream",
          "name": "stdout",
          "text": [
            "epoch : 7\n",
            "train_loss : 0.306, train_accuracy : 0.896\n",
            "validation loss : 0.345 , validation accuracy : 0.867\n"
          ]
        },
        {
          "output_type": "stream",
          "name": "stderr",
          "text": [
            "training...: 100%|██████████| 37/37 [00:09<00:00,  4.10it/s]\n",
            "evaluating...: 100%|██████████| 13/13 [00:01<00:00, 10.18it/s]\n"
          ]
        },
        {
          "output_type": "stream",
          "name": "stdout",
          "text": [
            "epoch : 8\n",
            "train_loss : 0.279, train_accuracy : 0.906\n",
            "validation loss : 0.329 , validation accuracy : 0.873\n"
          ]
        },
        {
          "output_type": "stream",
          "name": "stderr",
          "text": [
            "training...: 100%|██████████| 37/37 [00:09<00:00,  4.04it/s]\n",
            "evaluating...: 100%|██████████| 13/13 [00:01<00:00, 10.05it/s]"
          ]
        },
        {
          "output_type": "stream",
          "name": "stdout",
          "text": [
            "epoch : 9\n",
            "train_loss : 0.257, train_accuracy : 0.914\n",
            "validation loss : 0.318 , validation accuracy : 0.878\n"
          ]
        },
        {
          "output_type": "stream",
          "name": "stderr",
          "text": [
            "\n"
          ]
        }
      ]
    },
    {
      "cell_type": "code",
      "source": [
        "fig = plt.figure(figsize=(10,6))\n",
        "ax = fig.add_subplot(1,1,1)\n",
        "ax.plot(metrics[\"train_losses\"], label = \"train_loss\")\n",
        "ax.plot(metrics[\"validation_losses\"], label = \"validation losses\")\n",
        "ax.set_xlabel(\"epoch\")\n",
        "ax.set_ylabel(\"losses\")\n",
        "ax.set_xticks(range(n_epochs))\n",
        "ax.legend()\n",
        "ax.grid()"
      ],
      "metadata": {
        "colab": {
          "base_uri": "https://localhost:8080/",
          "height": 542
        },
        "id": "mhkovVG3YjQO",
        "outputId": "d25e6d62-73af-42aa-e211-664b3c789d1c"
      },
      "execution_count": 91,
      "outputs": [
        {
          "output_type": "display_data",
          "data": {
            "text/plain": [
              "<Figure size 1000x600 with 1 Axes>"
            ],
            "image/png": "[encoded data removed]"
          },
          "metadata": {}
        }
      ]
    },
    {
      "cell_type": "code",
      "source": [
        "fig = plt.figure(figsize=(10,7))\n",
        "ax = fig.add_subplot()\n",
        "ax.plot(metrics[\"train_acc\"], label=\"train accuarcy\")\n",
        "ax.plot(metrics[\"validation_acc\"], label = \"validation accuracy\")\n",
        "ax.set_xlabel(\"Epoch\")\n",
        "ax.set_ylabel(\"Accuracy\")\n",
        "ax.set_xticks(range(n_epochs))\n",
        "ax.legend()\n",
        "ax.grid()"
      ],
      "metadata": {
        "colab": {
          "base_uri": "https://localhost:8080/",
          "height": 619
        },
        "id": "qacQGCe_Z5uk",
        "outputId": "eeb6f0d6-7894-43a5-dd45-f49e8381b8cd"
      },
      "execution_count": 92,
      "outputs": [
        {
          "output_type": "display_data",
          "data": {
            "text/plain": [
              "<Figure size 1000x700 with 1 Axes>"
            ],
            "image/png": "[encoded data removed]"
          },
          "metadata": {}
        }
      ]
    },
    {
      "cell_type": "code",
      "source": [
        "model.load_state_dict(torch.load(\"nbow.pt\"))\n",
        "\n",
        "test_loss, test_acc = evaluate(test_data_loader,model,criterion,device)\n",
        "\n"
      ],
      "metadata": {
        "colab": {
          "base_uri": "https://localhost:8080/"
        },
        "id": "C-kfjkUfalA1",
        "outputId": "58b872c5-77da-453c-dd2a-e697fe095bbd"
      },
      "execution_count": 93,
      "outputs": [
        {
          "output_type": "stream",
          "name": "stderr",
          "text": [
            "evaluating...: 100%|██████████| 49/49 [00:05<00:00,  9.05it/s]\n"
          ]
        }
      ]
    },
    {
      "cell_type": "code",
      "source": [
        "print(f\"Test accuarcy : {test_acc:.3f}, test loss : {test_loss:.3f}\")"
      ],
      "metadata": {
        "colab": {
          "base_uri": "https://localhost:8080/"
        },
        "id": "cEdUcopcbHTd",
        "outputId": "c12821c6-f582-40b2-c3ec-8aa652519082"
      },
      "execution_count": 96,
      "outputs": [
        {
          "output_type": "stream",
          "name": "stdout",
          "text": [
            "Test accuarcy : 0.858, test loss : 0.352\n"
          ]
        }
      ]
    },
    {
      "cell_type": "code",
      "source": [
        "def predict_sentiment(text,model, tokenizer, vocab, device):\n",
        "  tokens = tokenizer(text)\n",
        "  ids = vocab.lookup_indices(tokens=tokens)\n",
        "  tensor = torch.LongTensor(ids).unsqueeze(dim=0).to(device)\n",
        "  prediction = model(tensor).squeeze(dim=0)\n",
        "  probability = torch.softmax(prediction, dim=-1)\n",
        "  predicted_class = prediction.argmax(dim=-1).item()\n",
        "  predicted_probability = probability[predicted_class].item()\n",
        "  return predicted_class,predicted_probability"
      ],
      "metadata": {
        "id": "VnmDAgNubOt6"
      },
      "execution_count": 99,
      "outputs": []
    },
    {
      "cell_type": "code",
      "source": [
        "text = \"This film is terrible\"\n",
        "\n",
        "predict_sentiment(text, model, tokenizer, vocab, device)"
      ],
      "metadata": {
        "colab": {
          "base_uri": "https://localhost:8080/"
        },
        "id": "obmruXXQiGbm",
        "outputId": "c1317291-3e22-4c88-8248-42da8a5c303b"
      },
      "execution_count": 100,
      "outputs": [
        {
          "output_type": "execute_result",
          "data": {
            "text/plain": [
              "(0, 0.9999998807907104)"
            ]
          },
          "metadata": {},
          "execution_count": 100
        }
      ]
    },
    {
      "cell_type": "code",
      "source": [
        "text = \"This film is awesome\"\n",
        "\n",
        "predict_sentiment(text, model, tokenizer, vocab, device)"
      ],
      "metadata": {
        "colab": {
          "base_uri": "https://localhost:8080/"
        },
        "id": "7II4tH7diPY-",
        "outputId": "b9765232-3fc0-459a-a3cf-b9a06a9de9bd"
      },
      "execution_count": 101,
      "outputs": [
        {
          "output_type": "execute_result",
          "data": {
            "text/plain": [
              "(1, 0.999998927116394)"
            ]
          },
          "metadata": {},
          "execution_count": 101
        }
      ]
    },
    {
      "cell_type": "code",
      "source": [
        "text = \"Hey there! How you doing\"\n",
        "\n",
        "predict_sentiment(text, model, tokenizer, vocab, device)\n"
      ],
      "metadata": {
        "colab": {
          "base_uri": "https://localhost:8080/"
        },
        "id": "5UJOIaFRiaRq",
        "outputId": "3e79b98b-a2e0-4c94-d213-0fe776ec54fd"
      },
      "execution_count": 102,
      "outputs": [
        {
          "output_type": "execute_result",
          "data": {
            "text/plain": [
              "(0, 0.9179787039756775)"
            ]
          },
          "metadata": {},
          "execution_count": 102
        }
      ]
    },
    {
      "cell_type": "code",
      "source": [],
      "metadata": {
        "id": "-rP3bhGmihwR"
      },
      "execution_count": null,
      "outputs": []
    }
  ]
}